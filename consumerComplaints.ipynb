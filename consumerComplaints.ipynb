{
  "cells": [
    {
      "cell_type": "code",
      "execution_count": 126,
      "metadata": {
        "id": "7aPmd9afbFS1",
        "outputId": "51b7c89c-fd87-4c16-e383-70294fc880e2",
        "colab": {
          "base_uri": "https://localhost:8080/",
          "height": 206
        }
      },
      "outputs": [
        {
          "output_type": "execute_result",
          "data": {
            "text/plain": [
              "      Satd_type                                         v1_comment\n",
              "0  SATD_CHANGED  TODO: Load analysis data FIXME results .csv fr...\n",
              "1  SATD_REMOVED  TODO: Load analysis data FIXME results .csv fr...\n",
              "2  SATD_REMOVED                           FIXME: use analysis name\n",
              "3  SATD_REMOVED                                             FIXME:\n",
              "4  SATD_REMOVED  TODO: sort func must be independent of param i..."
            ],
            "text/html": [
              "\n",
              "  <div id=\"df-799c7ef1-dd8f-4cb9-82b6-ec6cefa70e7a\">\n",
              "    <div class=\"colab-df-container\">\n",
              "      <div>\n",
              "<style scoped>\n",
              "    .dataframe tbody tr th:only-of-type {\n",
              "        vertical-align: middle;\n",
              "    }\n",
              "\n",
              "    .dataframe tbody tr th {\n",
              "        vertical-align: top;\n",
              "    }\n",
              "\n",
              "    .dataframe thead th {\n",
              "        text-align: right;\n",
              "    }\n",
              "</style>\n",
              "<table border=\"1\" class=\"dataframe\">\n",
              "  <thead>\n",
              "    <tr style=\"text-align: right;\">\n",
              "      <th></th>\n",
              "      <th>Satd_type</th>\n",
              "      <th>v1_comment</th>\n",
              "    </tr>\n",
              "  </thead>\n",
              "  <tbody>\n",
              "    <tr>\n",
              "      <th>0</th>\n",
              "      <td>SATD_CHANGED</td>\n",
              "      <td>TODO: Load analysis data FIXME results .csv fr...</td>\n",
              "    </tr>\n",
              "    <tr>\n",
              "      <th>1</th>\n",
              "      <td>SATD_REMOVED</td>\n",
              "      <td>TODO: Load analysis data FIXME results .csv fr...</td>\n",
              "    </tr>\n",
              "    <tr>\n",
              "      <th>2</th>\n",
              "      <td>SATD_REMOVED</td>\n",
              "      <td>FIXME: use analysis name</td>\n",
              "    </tr>\n",
              "    <tr>\n",
              "      <th>3</th>\n",
              "      <td>SATD_REMOVED</td>\n",
              "      <td>FIXME:</td>\n",
              "    </tr>\n",
              "    <tr>\n",
              "      <th>4</th>\n",
              "      <td>SATD_REMOVED</td>\n",
              "      <td>TODO: sort func must be independent of param i...</td>\n",
              "    </tr>\n",
              "  </tbody>\n",
              "</table>\n",
              "</div>\n",
              "      <button class=\"colab-df-convert\" onclick=\"convertToInteractive('df-799c7ef1-dd8f-4cb9-82b6-ec6cefa70e7a')\"\n",
              "              title=\"Convert this dataframe to an interactive table.\"\n",
              "              style=\"display:none;\">\n",
              "        \n",
              "  <svg xmlns=\"http://www.w3.org/2000/svg\" height=\"24px\"viewBox=\"0 0 24 24\"\n",
              "       width=\"24px\">\n",
              "    <path d=\"M0 0h24v24H0V0z\" fill=\"none\"/>\n",
              "    <path d=\"M18.56 5.44l.94 2.06.94-2.06 2.06-.94-2.06-.94-.94-2.06-.94 2.06-2.06.94zm-11 1L8.5 8.5l.94-2.06 2.06-.94-2.06-.94L8.5 2.5l-.94 2.06-2.06.94zm10 10l.94 2.06.94-2.06 2.06-.94-2.06-.94-.94-2.06-.94 2.06-2.06.94z\"/><path d=\"M17.41 7.96l-1.37-1.37c-.4-.4-.92-.59-1.43-.59-.52 0-1.04.2-1.43.59L10.3 9.45l-7.72 7.72c-.78.78-.78 2.05 0 2.83L4 21.41c.39.39.9.59 1.41.59.51 0 1.02-.2 1.41-.59l7.78-7.78 2.81-2.81c.8-.78.8-2.07 0-2.86zM5.41 20L4 18.59l7.72-7.72 1.47 1.35L5.41 20z\"/>\n",
              "  </svg>\n",
              "      </button>\n",
              "      \n",
              "  <style>\n",
              "    .colab-df-container {\n",
              "      display:flex;\n",
              "      flex-wrap:wrap;\n",
              "      gap: 12px;\n",
              "    }\n",
              "\n",
              "    .colab-df-convert {\n",
              "      background-color: #E8F0FE;\n",
              "      border: none;\n",
              "      border-radius: 50%;\n",
              "      cursor: pointer;\n",
              "      display: none;\n",
              "      fill: #1967D2;\n",
              "      height: 32px;\n",
              "      padding: 0 0 0 0;\n",
              "      width: 32px;\n",
              "    }\n",
              "\n",
              "    .colab-df-convert:hover {\n",
              "      background-color: #E2EBFA;\n",
              "      box-shadow: 0px 1px 2px rgba(60, 64, 67, 0.3), 0px 1px 3px 1px rgba(60, 64, 67, 0.15);\n",
              "      fill: #174EA6;\n",
              "    }\n",
              "\n",
              "    [theme=dark] .colab-df-convert {\n",
              "      background-color: #3B4455;\n",
              "      fill: #D2E3FC;\n",
              "    }\n",
              "\n",
              "    [theme=dark] .colab-df-convert:hover {\n",
              "      background-color: #434B5C;\n",
              "      box-shadow: 0px 1px 3px 1px rgba(0, 0, 0, 0.15);\n",
              "      filter: drop-shadow(0px 1px 2px rgba(0, 0, 0, 0.3));\n",
              "      fill: #FFFFFF;\n",
              "    }\n",
              "  </style>\n",
              "\n",
              "      <script>\n",
              "        const buttonEl =\n",
              "          document.querySelector('#df-799c7ef1-dd8f-4cb9-82b6-ec6cefa70e7a button.colab-df-convert');\n",
              "        buttonEl.style.display =\n",
              "          google.colab.kernel.accessAllowed ? 'block' : 'none';\n",
              "\n",
              "        async function convertToInteractive(key) {\n",
              "          const element = document.querySelector('#df-799c7ef1-dd8f-4cb9-82b6-ec6cefa70e7a');\n",
              "          const dataTable =\n",
              "            await google.colab.kernel.invokeFunction('convertToInteractive',\n",
              "                                                     [key], {});\n",
              "          if (!dataTable) return;\n",
              "\n",
              "          const docLinkHtml = 'Like what you see? Visit the ' +\n",
              "            '<a target=\"_blank\" href=https://colab.research.google.com/notebooks/data_table.ipynb>data table notebook</a>'\n",
              "            + ' to learn more about interactive tables.';\n",
              "          element.innerHTML = '';\n",
              "          dataTable['output_type'] = 'display_data';\n",
              "          await google.colab.output.renderOutput(dataTable, element);\n",
              "          const docLink = document.createElement('div');\n",
              "          docLink.innerHTML = docLinkHtml;\n",
              "          element.appendChild(docLink);\n",
              "        }\n",
              "      </script>\n",
              "    </div>\n",
              "  </div>\n",
              "  "
            ]
          },
          "metadata": {},
          "execution_count": 126
        }
      ],
      "source": [
        "import pandas as pd\n",
        "df = pd.read_csv('new_dbSquiggly.csv', delimiter='~')\n",
        "df.head()"
      ]
    },
    {
      "cell_type": "code",
      "execution_count": 127,
      "metadata": {
        "collapsed": true,
        "id": "k2DaSQJcbFS6"
      },
      "outputs": [],
      "source": [
        "df = df[pd.notnull(df['v1_comment'])]"
      ]
    },
    {
      "cell_type": "code",
      "execution_count": 128,
      "metadata": {
        "id": "h3s32RKfbFS6",
        "outputId": "84c67620-31da-4f15-f882-328d4c3f7f0e",
        "colab": {
          "base_uri": "https://localhost:8080/"
        }
      },
      "outputs": [
        {
          "output_type": "stream",
          "name": "stdout",
          "text": [
            "<class 'pandas.core.frame.DataFrame'>\n",
            "Int64Index: 729 entries, 0 to 728\n",
            "Data columns (total 2 columns):\n",
            " #   Column      Non-Null Count  Dtype \n",
            "---  ------      --------------  ----- \n",
            " 0   Satd_type   729 non-null    object\n",
            " 1   v1_comment  729 non-null    object\n",
            "dtypes: object(2)\n",
            "memory usage: 17.1+ KB\n"
          ]
        }
      ],
      "source": [
        "df.info()"
      ]
    },
    {
      "cell_type": "code",
      "execution_count": 129,
      "metadata": {
        "collapsed": true,
        "id": "IS88hupybFS7"
      },
      "outputs": [],
      "source": [
        "col = ['Satd_type', 'v1_comment']\n",
        "df = df[col]"
      ]
    },
    {
      "cell_type": "code",
      "execution_count": 130,
      "metadata": {
        "id": "g0p0u_gmbFS7",
        "outputId": "4cf98f4a-e50a-4aa5-af2a-576a41dfa0c0",
        "colab": {
          "base_uri": "https://localhost:8080/"
        }
      },
      "outputs": [
        {
          "output_type": "execute_result",
          "data": {
            "text/plain": [
              "Index(['Satd_type', 'v1_comment'], dtype='object')"
            ]
          },
          "metadata": {},
          "execution_count": 130
        }
      ],
      "source": [
        "df.columns"
      ]
    },
    {
      "cell_type": "code",
      "execution_count": 131,
      "metadata": {
        "collapsed": true,
        "id": "--nz4VmrbFS8"
      },
      "outputs": [],
      "source": [
        "df.columns = ['Satd_type', 'v1_comment']"
      ]
    },
    {
      "cell_type": "code",
      "execution_count": 132,
      "metadata": {
        "collapsed": true,
        "id": "SLkEjg8lbFS8"
      },
      "outputs": [],
      "source": [
        "df['category_id'] = df['Satd_type'].factorize()[0]\n",
        "from io import StringIO\n",
        "category_id_df = df[['Satd_type', 'category_id']].drop_duplicates().sort_values('category_id')\n",
        "category_to_id = dict(category_id_df.values)\n",
        "id_to_category = dict(category_id_df[['category_id', 'Satd_type']].values)"
      ]
    },
    {
      "cell_type": "code",
      "execution_count": 133,
      "metadata": {
        "id": "lWA8vi6kbFS9",
        "outputId": "a8cd5a70-d35c-4a1b-fe00-3396e2f707da",
        "colab": {
          "base_uri": "https://localhost:8080/",
          "height": 206
        }
      },
      "outputs": [
        {
          "output_type": "execute_result",
          "data": {
            "text/plain": [
              "      Satd_type                                         v1_comment  \\\n",
              "0  SATD_CHANGED  TODO: Load analysis data FIXME results .csv fr...   \n",
              "1  SATD_REMOVED  TODO: Load analysis data FIXME results .csv fr...   \n",
              "2  SATD_REMOVED                           FIXME: use analysis name   \n",
              "3  SATD_REMOVED                                             FIXME:   \n",
              "4  SATD_REMOVED  TODO: sort func must be independent of param i...   \n",
              "\n",
              "   category_id  \n",
              "0            0  \n",
              "1            1  \n",
              "2            1  \n",
              "3            1  \n",
              "4            1  "
            ],
            "text/html": [
              "\n",
              "  <div id=\"df-f0cf5037-850b-48ff-aa65-fa6545d2f87e\">\n",
              "    <div class=\"colab-df-container\">\n",
              "      <div>\n",
              "<style scoped>\n",
              "    .dataframe tbody tr th:only-of-type {\n",
              "        vertical-align: middle;\n",
              "    }\n",
              "\n",
              "    .dataframe tbody tr th {\n",
              "        vertical-align: top;\n",
              "    }\n",
              "\n",
              "    .dataframe thead th {\n",
              "        text-align: right;\n",
              "    }\n",
              "</style>\n",
              "<table border=\"1\" class=\"dataframe\">\n",
              "  <thead>\n",
              "    <tr style=\"text-align: right;\">\n",
              "      <th></th>\n",
              "      <th>Satd_type</th>\n",
              "      <th>v1_comment</th>\n",
              "      <th>category_id</th>\n",
              "    </tr>\n",
              "  </thead>\n",
              "  <tbody>\n",
              "    <tr>\n",
              "      <th>0</th>\n",
              "      <td>SATD_CHANGED</td>\n",
              "      <td>TODO: Load analysis data FIXME results .csv fr...</td>\n",
              "      <td>0</td>\n",
              "    </tr>\n",
              "    <tr>\n",
              "      <th>1</th>\n",
              "      <td>SATD_REMOVED</td>\n",
              "      <td>TODO: Load analysis data FIXME results .csv fr...</td>\n",
              "      <td>1</td>\n",
              "    </tr>\n",
              "    <tr>\n",
              "      <th>2</th>\n",
              "      <td>SATD_REMOVED</td>\n",
              "      <td>FIXME: use analysis name</td>\n",
              "      <td>1</td>\n",
              "    </tr>\n",
              "    <tr>\n",
              "      <th>3</th>\n",
              "      <td>SATD_REMOVED</td>\n",
              "      <td>FIXME:</td>\n",
              "      <td>1</td>\n",
              "    </tr>\n",
              "    <tr>\n",
              "      <th>4</th>\n",
              "      <td>SATD_REMOVED</td>\n",
              "      <td>TODO: sort func must be independent of param i...</td>\n",
              "      <td>1</td>\n",
              "    </tr>\n",
              "  </tbody>\n",
              "</table>\n",
              "</div>\n",
              "      <button class=\"colab-df-convert\" onclick=\"convertToInteractive('df-f0cf5037-850b-48ff-aa65-fa6545d2f87e')\"\n",
              "              title=\"Convert this dataframe to an interactive table.\"\n",
              "              style=\"display:none;\">\n",
              "        \n",
              "  <svg xmlns=\"http://www.w3.org/2000/svg\" height=\"24px\"viewBox=\"0 0 24 24\"\n",
              "       width=\"24px\">\n",
              "    <path d=\"M0 0h24v24H0V0z\" fill=\"none\"/>\n",
              "    <path d=\"M18.56 5.44l.94 2.06.94-2.06 2.06-.94-2.06-.94-.94-2.06-.94 2.06-2.06.94zm-11 1L8.5 8.5l.94-2.06 2.06-.94-2.06-.94L8.5 2.5l-.94 2.06-2.06.94zm10 10l.94 2.06.94-2.06 2.06-.94-2.06-.94-.94-2.06-.94 2.06-2.06.94z\"/><path d=\"M17.41 7.96l-1.37-1.37c-.4-.4-.92-.59-1.43-.59-.52 0-1.04.2-1.43.59L10.3 9.45l-7.72 7.72c-.78.78-.78 2.05 0 2.83L4 21.41c.39.39.9.59 1.41.59.51 0 1.02-.2 1.41-.59l7.78-7.78 2.81-2.81c.8-.78.8-2.07 0-2.86zM5.41 20L4 18.59l7.72-7.72 1.47 1.35L5.41 20z\"/>\n",
              "  </svg>\n",
              "      </button>\n",
              "      \n",
              "  <style>\n",
              "    .colab-df-container {\n",
              "      display:flex;\n",
              "      flex-wrap:wrap;\n",
              "      gap: 12px;\n",
              "    }\n",
              "\n",
              "    .colab-df-convert {\n",
              "      background-color: #E8F0FE;\n",
              "      border: none;\n",
              "      border-radius: 50%;\n",
              "      cursor: pointer;\n",
              "      display: none;\n",
              "      fill: #1967D2;\n",
              "      height: 32px;\n",
              "      padding: 0 0 0 0;\n",
              "      width: 32px;\n",
              "    }\n",
              "\n",
              "    .colab-df-convert:hover {\n",
              "      background-color: #E2EBFA;\n",
              "      box-shadow: 0px 1px 2px rgba(60, 64, 67, 0.3), 0px 1px 3px 1px rgba(60, 64, 67, 0.15);\n",
              "      fill: #174EA6;\n",
              "    }\n",
              "\n",
              "    [theme=dark] .colab-df-convert {\n",
              "      background-color: #3B4455;\n",
              "      fill: #D2E3FC;\n",
              "    }\n",
              "\n",
              "    [theme=dark] .colab-df-convert:hover {\n",
              "      background-color: #434B5C;\n",
              "      box-shadow: 0px 1px 3px 1px rgba(0, 0, 0, 0.15);\n",
              "      filter: drop-shadow(0px 1px 2px rgba(0, 0, 0, 0.3));\n",
              "      fill: #FFFFFF;\n",
              "    }\n",
              "  </style>\n",
              "\n",
              "      <script>\n",
              "        const buttonEl =\n",
              "          document.querySelector('#df-f0cf5037-850b-48ff-aa65-fa6545d2f87e button.colab-df-convert');\n",
              "        buttonEl.style.display =\n",
              "          google.colab.kernel.accessAllowed ? 'block' : 'none';\n",
              "\n",
              "        async function convertToInteractive(key) {\n",
              "          const element = document.querySelector('#df-f0cf5037-850b-48ff-aa65-fa6545d2f87e');\n",
              "          const dataTable =\n",
              "            await google.colab.kernel.invokeFunction('convertToInteractive',\n",
              "                                                     [key], {});\n",
              "          if (!dataTable) return;\n",
              "\n",
              "          const docLinkHtml = 'Like what you see? Visit the ' +\n",
              "            '<a target=\"_blank\" href=https://colab.research.google.com/notebooks/data_table.ipynb>data table notebook</a>'\n",
              "            + ' to learn more about interactive tables.';\n",
              "          element.innerHTML = '';\n",
              "          dataTable['output_type'] = 'display_data';\n",
              "          await google.colab.output.renderOutput(dataTable, element);\n",
              "          const docLink = document.createElement('div');\n",
              "          docLink.innerHTML = docLinkHtml;\n",
              "          element.appendChild(docLink);\n",
              "        }\n",
              "      </script>\n",
              "    </div>\n",
              "  </div>\n",
              "  "
            ]
          },
          "metadata": {},
          "execution_count": 133
        }
      ],
      "source": [
        "df.head()"
      ]
    },
    {
      "cell_type": "code",
      "execution_count": 134,
      "metadata": {
        "id": "PaLZO7-ZbFS-",
        "outputId": "a173adb3-b78e-463d-9dd5-54ab1c93197e",
        "colab": {
          "base_uri": "https://localhost:8080/",
          "height": 534
        }
      },
      "outputs": [
        {
          "output_type": "display_data",
          "data": {
            "text/plain": [
              "<Figure size 576x432 with 1 Axes>"
            ],
            "image/png": "[encoded data removed]"
          },
          "metadata": {
            "needs_background": "light"
          }
        }
      ],
      "source": [
        "import matplotlib.pyplot as plt\n",
        "fig = plt.figure(figsize=(8,6))\n",
        "df.groupby('Satd_type').v1_comment.count().plot.bar(ylim=0)\n",
        "plt.show()"
      ]
    },
    {
      "cell_type": "code",
      "execution_count": 135,
      "metadata": {
        "id": "YpxS4ZUTbFS_",
        "outputId": "ece9ca60-bd51-420b-fbb9-44d6f53569e3",
        "colab": {
          "base_uri": "https://localhost:8080/"
        }
      },
      "outputs": [
        {
          "output_type": "execute_result",
          "data": {
            "text/plain": [
              "(729, 279)"
            ]
          },
          "metadata": {},
          "execution_count": 135
        }
      ],
      "source": [
        "from sklearn.feature_extraction.text import TfidfVectorizer\n",
        "\n",
        "tfidf = TfidfVectorizer(sublinear_tf=True, min_df=5, norm='l2', encoding='latin-1', ngram_range=(1, 2), stop_words='english')\n",
        "\n",
        "features = tfidf.fit_transform(df.v1_comment).toarray()\n",
        "labels = df.category_id\n",
        "features.shape"
      ]
    },
    {
      "cell_type": "code",
      "execution_count": 136,
      "metadata": {
        "scrolled": false,
        "id": "MD-_Cd9YbFS_",
        "outputId": "e993e5d9-38dd-41e3-b9d9-28c83998af3e",
        "colab": {
          "base_uri": "https://localhost:8080/"
        }
      },
      "outputs": [
        {
          "output_type": "stream",
          "name": "stdout",
          "text": [
            "# 'CLASS_OR_METHOD_CHANGED':\n",
            "  . Most correlated unigrams:\n",
            "       . extract\n",
            "       . swimming\n",
            "  . Most correlated bigrams:\n",
            "       . plexus utils\n",
            "       . swimming pool\n",
            "# 'FILE_PATH_CHANGED':\n",
            "  . Most correlated unigrams:\n",
            "       . exception\n",
            "       . issue\n",
            "  . Most correlated bigrams:\n",
            "       . todo need\n",
            "       . todo filter\n",
            "# 'SATD_CHANGED':\n",
            "  . Most correlated unigrams:\n",
            "       . final\n",
            "       . file\n",
            "  . Most correlated bigrams:\n",
            "       . mime type\n",
            "       . shouldnt archiver\n",
            "# 'SATD_MOVED_FILE':\n",
            "  . Most correlated unigrams:\n",
            "       . idea\n",
            "       . determine\n",
            "  . Most correlated bigrams:\n",
            "       . ll need\n",
            "       . support apip\n",
            "# 'SATD_REMOVED':\n",
            "  . Most correlated unigrams:\n",
            "       . issue\n",
            "       . swimming\n",
            "  . Most correlated bigrams:\n",
            "       . todo hv\n",
            "       . swimming pool\n"
          ]
        },
        {
          "output_type": "stream",
          "name": "stderr",
          "text": [
            "/usr/local/lib/python3.7/dist-packages/sklearn/utils/deprecation.py:87: FutureWarning: Function get_feature_names is deprecated; get_feature_names is deprecated in 1.0 and will be removed in 1.2. Please use get_feature_names_out instead.\n",
            "  warnings.warn(msg, category=FutureWarning)\n",
            "/usr/local/lib/python3.7/dist-packages/sklearn/utils/deprecation.py:87: FutureWarning: Function get_feature_names is deprecated; get_feature_names is deprecated in 1.0 and will be removed in 1.2. Please use get_feature_names_out instead.\n",
            "  warnings.warn(msg, category=FutureWarning)\n",
            "/usr/local/lib/python3.7/dist-packages/sklearn/utils/deprecation.py:87: FutureWarning: Function get_feature_names is deprecated; get_feature_names is deprecated in 1.0 and will be removed in 1.2. Please use get_feature_names_out instead.\n",
            "  warnings.warn(msg, category=FutureWarning)\n",
            "/usr/local/lib/python3.7/dist-packages/sklearn/utils/deprecation.py:87: FutureWarning: Function get_feature_names is deprecated; get_feature_names is deprecated in 1.0 and will be removed in 1.2. Please use get_feature_names_out instead.\n",
            "  warnings.warn(msg, category=FutureWarning)\n",
            "/usr/local/lib/python3.7/dist-packages/sklearn/utils/deprecation.py:87: FutureWarning: Function get_feature_names is deprecated; get_feature_names is deprecated in 1.0 and will be removed in 1.2. Please use get_feature_names_out instead.\n",
            "  warnings.warn(msg, category=FutureWarning)\n"
          ]
        }
      ],
      "source": [
        "from sklearn.feature_selection import chi2\n",
        "import numpy as np\n",
        "\n",
        "N = 2\n",
        "for Satd_type, category_id in sorted(category_to_id.items()):\n",
        "  features_chi2 = chi2(features, labels == category_id)\n",
        "  indices = np.argsort(features_chi2[0])\n",
        "  feature_names = np.array(tfidf.get_feature_names())[indices]\n",
        "  unigrams = [v for v in feature_names if len(v.split(' ')) == 1]\n",
        "  bigrams = [v for v in feature_names if len(v.split(' ')) == 2]\n",
        "  print(\"# '{}':\".format(Satd_type))\n",
        "  print(\"  . Most correlated unigrams:\\n       . {}\".format('\\n       . '.join(unigrams[-N:])))\n",
        "  print(\"  . Most correlated bigrams:\\n       . {}\".format('\\n       . '.join(bigrams[-N:])))"
      ]
    },
    {
      "cell_type": "code",
      "execution_count": 137,
      "metadata": {
        "collapsed": true,
        "id": "0T4J9WY6bFTA"
      },
      "outputs": [],
      "source": [
        "from sklearn.model_selection import train_test_split\n",
        "from sklearn.feature_extraction.text import CountVectorizer\n",
        "from sklearn.feature_extraction.text import TfidfTransformer\n",
        "from sklearn.naive_bayes import MultinomialNB\n",
        "\n",
        "X_train, X_test, y_train, y_test = train_test_split(df['v1_comment'], df['Satd_type'], random_state = 0)\n",
        "count_vect = CountVectorizer()\n",
        "X_train_counts = count_vect.fit_transform(X_train)\n",
        "tfidf_transformer = TfidfTransformer()\n",
        "X_train_tfidf = tfidf_transformer.fit_transform(X_train_counts)\n",
        "\n",
        "clf = MultinomialNB().fit(X_train_tfidf, y_train)"
      ]
    },
    {
      "cell_type": "code",
      "execution_count": 138,
      "metadata": {
        "id": "cF6UJ2KubFTB"
      },
      "outputs": [],
      "source": [
        "#print(clf.predict(count_vect.transform([\"This company refuses to provide me verification and validation of debt per my right under the FDCPA. I do not believe this debt is mine.\"])))"
      ]
    },
    {
      "cell_type": "code",
      "execution_count": 139,
      "metadata": {
        "id": "RKBeVnmWbFTB"
      },
      "outputs": [],
      "source": [
        "#print(clf.predict(count_vect.transform([\"I am disputing the inaccurate information the Chex-Systems has on my credit report. I initially submitted a police report on XXXX/XXXX/16 and Chex Systems only deleted the items that I mentioned in the letter and not all the items that were actually listed on the police report. In other words they wanted me to say word for word to them what items were fraudulent. The total disregard of the police report and what accounts that it states that are fraudulent. If they just had paid a little closer attention to the police report I would not been in this position now and they would n't have to research once again. I would like the reported information to be removed : XXXX XXXX XXXX\"])))"
      ]
    },
    {
      "cell_type": "code",
      "execution_count": 140,
      "metadata": {
        "id": "tPcZVUbAbFTC"
      },
      "outputs": [],
      "source": [
        "#df[df['Consumer_complaint_narrative'] == \"This company refuses to provide me verification and validation of debt per my right under the FDCPA. I do not believe this debt is mine.\"]"
      ]
    },
    {
      "cell_type": "code",
      "execution_count": 141,
      "metadata": {
        "id": "X16xdBV5bFTC"
      },
      "outputs": [],
      "source": [
        "#df[df['Consumer_complaint_narrative'] == \"I am disputing the inaccurate information the Chex-Systems has on my credit report. I initially submitted a police report on XXXX/XXXX/16 and Chex Systems only deleted the items that I mentioned in the letter and not all the items that were actually listed on the police report. In other words they wanted me to say word for word to them what items were fraudulent. The total disregard of the police report and what accounts that it states that are fraudulent. If they just had paid a little closer attention to the police report I would not been in this position now and they would n't have to research once again. I would like the reported information to be removed : XXXX XXXX XXXX\"]"
      ]
    },
    {
      "cell_type": "code",
      "execution_count": 142,
      "metadata": {
        "id": "2M2sDz0cbFTC"
      },
      "outputs": [],
      "source": [
        "from sklearn.linear_model import LogisticRegression\n",
        "from sklearn.ensemble import RandomForestClassifier\n",
        "from sklearn.naive_bayes import MultinomialNB\n",
        "from sklearn.svm import LinearSVC\n",
        "import numpy as np\n",
        "\n",
        "from sklearn.model_selection import cross_val_score\n",
        "\n",
        "\n",
        "models = [\n",
        "    RandomForestClassifier(n_estimators=200, max_depth=3, random_state=0),\n",
        "    LinearSVC(),\n",
        "    MultinomialNB(),\n",
        "    LogisticRegression(random_state=0),\n",
        "]\n",
        "CV = 5\n",
        "cv_df = pd.DataFrame(index=range(CV * len(models)))\n",
        "entries = []\n",
        "predic = []\n",
        "for model in models:\n",
        "  model.fit(features, labels)\n",
        "  predic.append(model.predict(features))\n",
        "  model_name = model.__class__.__name__\n",
        "  accuracies = cross_val_score(model, features, labels, scoring='f1_weighted', cv=CV)\n",
        "  for fold_idx, accuracy in enumerate(accuracies):\n",
        "    entries.append((model_name, fold_idx, accuracy))\n",
        "cv_df = pd.DataFrame(entries, columns=['model_name', 'fold_idx', 'f1_weighted'])\n"
      ]
    },
    {
      "cell_type": "code",
      "source": [
        "from statsmodels.stats.contingency_tables import cochrans_q, mcnemar\n",
        "\n",
        "def checkIfBestModel(contTables):\n",
        "  for i in range(3):\n",
        "    result = mcnemar(contTables[i], exact=True)\n",
        "    # summarize the finding\n",
        "    print('statistic=%.3f, p-value=%.3f' % (result.statistic, result.pvalue))\n",
        "    # interpret the p-value\n",
        "    alpha = 0.05\n",
        "    if result.pvalue > alpha:\n",
        "      print(f\"tied with model: {i}\")\n",
        "      return False\n",
        "  return True\n",
        "\n",
        "dfRes = pd.DataFrame({'labels': labels, 'first': predic[0],'second': predic[1], 'third': predic[2], 'fourth': predic[3]})\n",
        "\n",
        "print(cochrans_q(dfRes))\n",
        "\n",
        "contTables = []\n",
        "\n",
        "for i in range(4):\n",
        "  for j in range(i+1, 4):\n",
        "    currTable = [[0,0],[0,0]]\n",
        "    for index, row in dfRes.iterrows():\n",
        "      if row[i+1] == row[j+1] == row[0]:\n",
        "        currTable[0][0] += 1\n",
        "      elif row[i+1] != row[0] and row[j+1] != row[0]:\n",
        "        currTable[1][1] += 1\n",
        "      elif row[i+1] == row[0] and row[j+1] != row[0]:\n",
        "        currTable[0][1] += 1\n",
        "      else:\n",
        "        currTable[1][0] += 1\n",
        "    contTables.append(currTable)\n",
        "\n",
        "print(contTables)\n",
        "print()\n",
        "print(f\"Check if the first model (random forest) is our best model, without tieing with any other model: {checkIfBestModel(contTables)}\")\n",
        "print(\"there is a tie between the first model (random forest) and the second model (Linear SVC), so pick the one with the higher f1-score (random forest):\")\n",
        "print()\n",
        "print(\"so Random Forest is our best model\")\n"
      ],
      "metadata": {
        "id": "RiXCkP1fRu1O",
        "outputId": "b165b694-2e81-4eee-8a2c-5e19004767be",
        "colab": {
          "base_uri": "https://localhost:8080/"
        }
      },
      "execution_count": 143,
      "outputs": [
        {
          "output_type": "stream",
          "name": "stdout",
          "text": [
            "df          4\n",
            "pvalue      1.9130979702274063e-06\n",
            "statistic   32.0\n",
            "[[[528, 8], [55, 138]], [[532, 4], [9, 184]], [[535, 1], [8, 185]], [[533, 50], [8, 138]], [[536, 47], [7, 139]], [[537, 4], [6, 182]]]\n",
            "\n",
            "statistic=8.000, p-value=0.000\n",
            "statistic=4.000, p-value=0.267\n",
            "tied with model: 1\n",
            "Check if the first model (random forest) is our best model, without tieing with any other model: False\n",
            "there is a tie between the first model (random forest) and the second model (Linear SVC), so pick the one with the higher f1-score (random forest):\n",
            "\n",
            "so Random Forest is our best model\n"
          ]
        }
      ]
    },
    {
      "cell_type": "code",
      "execution_count": 144,
      "metadata": {
        "id": "lsZJ3SjcbFTD",
        "outputId": "f7bc721f-1ba8-4be7-97af-1072ef88e5ba",
        "colab": {
          "base_uri": "https://localhost:8080/",
          "height": 280
        }
      },
      "outputs": [
        {
          "output_type": "display_data",
          "data": {
            "text/plain": [
              "<Figure size 432x288 with 1 Axes>"
            ],
            "image/png": "[encoded data removed]"
          },
          "metadata": {
            "needs_background": "light"
          }
        }
      ],
      "source": [
        "import seaborn as sns\n",
        "\n",
        "sns.boxplot(x='model_name', y='f1_weighted', data=cv_df)\n",
        "sns.stripplot(x='model_name', y='f1_weighted', data=cv_df, \n",
        "              size=8, jitter=True, edgecolor=\"gray\", linewidth=2)\n",
        "plt.show()"
      ]
    },
    {
      "cell_type": "code",
      "execution_count": 145,
      "metadata": {
        "id": "uvkTOjkJbFTD",
        "outputId": "d8c4d08b-3112-4f99-a113-56e09be71e51",
        "colab": {
          "base_uri": "https://localhost:8080/"
        }
      },
      "outputs": [
        {
          "output_type": "execute_result",
          "data": {
            "text/plain": [
              "model_name\n",
              "LinearSVC                 0.606776\n",
              "LogisticRegression        0.619636\n",
              "MultinomialNB             0.603588\n",
              "RandomForestClassifier    0.623103\n",
              "Name: f1_weighted, dtype: float64"
            ]
          },
          "metadata": {},
          "execution_count": 145
        }
      ],
      "source": [
        "cv_df.groupby('model_name').f1_weighted.mean()"
      ]
    },
    {
      "cell_type": "code",
      "source": [
        "from sklearn.model_selection import StratifiedShuffleSplit\n",
        "\n",
        "sss = StratifiedShuffleSplit(test_size=0.20,random_state=42,n_splits=1)\n",
        "X_train, X_test, y_train, y_test = (None, None, None, None)\n",
        "for train_index, test_index in sss.split(features,labels):\n",
        "    X_train, X_test = features[train_index], features[test_index]\n",
        "    y_train, y_test = labels[train_index], labels[test_index]"
      ],
      "metadata": {
        "id": "WJMBBBQvrQlM"
      },
      "execution_count": 146,
      "outputs": []
    },
    {
      "cell_type": "code",
      "source": [
        ""
      ],
      "metadata": {
        "id": "XXdvADGJwiK0"
      },
      "execution_count": 146,
      "outputs": []
    },
    {
      "cell_type": "code",
      "execution_count": 147,
      "metadata": {
        "collapsed": true,
        "id": "y514JIeWbFTD"
      },
      "outputs": [],
      "source": [
        "from sklearn.model_selection import train_test_split\n",
        "\n",
        "model = RandomForestClassifier(n_estimators=200, max_depth=50, random_state=0)\n",
        "\n",
        "# X_train, X_test, y_train, y_test, indices_train, indices_test = train_test_split(features, labels, df.index, test_size=0.20, random_state=1)"
      ]
    },
    {
      "cell_type": "code",
      "source": [
        "from imblearn.over_sampling import SMOTE, ADASYN,RandomOverSampler\n",
        "from imblearn.combine import SMOTETomek\n",
        "from collections import Counter\n",
        "\n",
        "counter = Counter(y_train)\n",
        "print(\"before: \",counter)\n",
        "smote = SMOTE(random_state=42)\n",
        "X_train,y_train = smote.fit_resample(X_train,y_train)\n",
        "counter = Counter(y_train)\n",
        "print(\"after: \",counter)"
      ],
      "metadata": {
        "colab": {
          "base_uri": "https://localhost:8080/"
        },
        "id": "iD7yOSAGzY7D",
        "outputId": "6afab1f1-5164-489a-ada3-5fb492af9829"
      },
      "execution_count": 148,
      "outputs": [
        {
          "output_type": "stream",
          "name": "stdout",
          "text": [
            "before:  Counter({1: 429, 2: 64, 3: 51, 0: 31, 4: 8})\n",
            "after:  Counter({1: 429, 3: 429, 2: 429, 0: 429, 4: 429})\n"
          ]
        }
      ]
    },
    {
      "cell_type": "code",
      "source": [
        "model.fit(X_train, y_train)\n",
        "y_pred = model.predict(X_test)"
      ],
      "metadata": {
        "id": "efYRz19vzVdp"
      },
      "execution_count": 149,
      "outputs": []
    },
    {
      "cell_type": "code",
      "execution_count": 150,
      "metadata": {
        "id": "8HC5TOC0bFTE",
        "outputId": "47915b58-f8d2-4d3d-a296-9e464046a4f9",
        "colab": {
          "base_uri": "https://localhost:8080/",
          "height": 537
        }
      },
      "outputs": [
        {
          "output_type": "display_data",
          "data": {
            "text/plain": [
              "<Figure size 576x432 with 2 Axes>"
            ],
            "image/png": "[encoded data removed]"
          },
          "metadata": {
            "needs_background": "light"
          }
        }
      ],
      "source": [
        "from sklearn.metrics import confusion_matrix\n",
        "\n",
        "conf_mat = confusion_matrix(y_test, y_pred)\n",
        "fig, ax = plt.subplots(figsize=(8,6))\n",
        "sns.heatmap(conf_mat, annot=True, fmt='d',\n",
        "            xticklabels=category_id_df.Satd_type.values, yticklabels=category_id_df.Satd_type.values)\n",
        "plt.ylabel('Actual')\n",
        "plt.xlabel('Predicted')\n",
        "plt.show()"
      ]
    },
    {
      "cell_type": "code",
      "execution_count": 151,
      "metadata": {
        "scrolled": false,
        "id": "mYOEVAKlbFTE"
      },
      "outputs": [],
      "source": [
        "# from IPython.display import display\n",
        "\n",
        "# for predicted in category_id_df.category_id:\n",
        "#   for actual in category_id_df.category_id:\n",
        "#     if predicted != actual and conf_mat[actual, predicted] >= 6:\n",
        "#       print(\"'{}' predicted as '{}' : {} examples.\".format(id_to_category[actual], id_to_category[predicted], conf_mat[actual, predicted]))\n",
        "#       display(df.loc[indices_test[(y_test == actual) & (y_pred == predicted)]][['Satd_type', 'v1_comment']])\n",
        "#       print('')"
      ]
    },
    {
      "cell_type": "code",
      "execution_count": 152,
      "metadata": {
        "id": "I5-HteBbbFTE"
      },
      "outputs": [],
      "source": [
        "# model.fit(features, labels)"
      ]
    },
    {
      "cell_type": "code",
      "execution_count": 153,
      "metadata": {
        "scrolled": false,
        "id": "LZ98ljvpbFTE"
      },
      "outputs": [],
      "source": [
        "# from sklearn.feature_selection import chi2\n",
        "\n",
        "# N = 2\n",
        "# for Satd_type, category_id in sorted(category_to_id.items()):\n",
        "#   indices = np.argsort(model.coef_[category_id])\n",
        "#   feature_names = np.array(tfidf.get_feature_names())[indices]\n",
        "#   unigrams = [v for v in reversed(feature_names) if len(v.split(' ')) == 1][:N]\n",
        "#   bigrams = [v for v in reversed(feature_names) if len(v.split(' ')) == 2][:N]\n",
        "#   print(\"# '{}':\".format(Satd_type))\n",
        "#   print(\"  . Top unigrams:\\n       . {}\".format('\\n       . '.join(unigrams)))\n",
        "#   print(\"  . Top bigrams:\\n       . {}\".format('\\n       . '.join(bigrams)))"
      ]
    },
    {
      "cell_type": "code",
      "execution_count": 154,
      "metadata": {
        "id": "vygN5bKobFTE",
        "colab": {
          "base_uri": "https://localhost:8080/"
        },
        "outputId": "8e057d20-18f2-4706-9e8f-905a8434dedd"
      },
      "outputs": [
        {
          "output_type": "stream",
          "name": "stdout",
          "text": [
            "\"FIXME throw assertion exception if constraintValidatorType == null\"\n",
            "  - Predicted as: 'FILE_PATH_CHANGED'\n",
            "\n",
            "\"TODO order by sum tag\"\n",
            "  - Predicted as: 'SATD_REMOVED'\n",
            "\n",
            "\"TODO remove the part with ToolchainManager lookup once we depend on 3.0.9 (have it as prerequisite). Define as regular component field then.\"\n",
            "  - Predicted as: 'SATD_REMOVED'\n",
            "\n"
          ]
        }
      ],
      "source": [
        "texts = [\"FIXME throw assertion exception if constraintValidatorType == null\",\n",
        "         \"TODO order by sum tag\",\n",
        "         \"TODO remove the part with ToolchainManager lookup once we depend on 3.0.9 (have it as prerequisite). Define as regular component field then.\"]\n",
        "         \n",
        "text_features = tfidf.transform(texts)\n",
        "predictions = model.predict(text_features)\n",
        "for text, predicted in zip(texts, predictions):\n",
        "  print('\"{}\"'.format(text))\n",
        "  print(\"  - Predicted as: '{}'\".format(id_to_category[predicted]))\n",
        "  print(\"\")"
      ]
    },
    {
      "cell_type": "code",
      "execution_count": 155,
      "metadata": {
        "id": "NHgr0-CMbFTF",
        "colab": {
          "base_uri": "https://localhost:8080/"
        },
        "outputId": "0a5c80dc-932e-40d7-be6a-c0145f2ae098"
      },
      "outputs": [
        {
          "output_type": "stream",
          "name": "stdout",
          "text": [
            "                         precision    recall  f1-score   support\n",
            "\n",
            "           SATD_CHANGED       0.33      0.38      0.35         8\n",
            "           SATD_REMOVED       0.77      0.65      0.71       107\n",
            "CLASS_OR_METHOD_CHANGED       0.27      0.44      0.33        16\n",
            "      FILE_PATH_CHANGED       0.16      0.23      0.19        13\n",
            "        SATD_MOVED_FILE       1.00      0.50      0.67         2\n",
            "\n",
            "               accuracy                           0.58       146\n",
            "              macro avg       0.51      0.44      0.45       146\n",
            "           weighted avg       0.64      0.58      0.60       146\n",
            "\n"
          ]
        }
      ],
      "source": [
        "from sklearn import metrics\n",
        "print(metrics.classification_report(y_test, y_pred, \n",
        "                                    target_names=df['Satd_type'].unique()))"
      ]
    }
  ],
  "metadata": {
    "kernelspec": {
      "display_name": "conda_python3",
      "language": "python",
      "name": "conda_python3"
    },
    "language_info": {
      "codemirror_mode": {
        "name": "ipython",
        "version": 3
      },
      "file_extension": ".py",
      "mimetype": "text/x-python",
      "name": "python",
      "nbconvert_exporter": "python",
      "pygments_lexer": "ipython3",
      "version": "3.6.2"
    },
    "colab": {
      "name": "consumerComplaints.ipynb",
      "provenance": [],
      "collapsed_sections": []
    }
  },
  "nbformat": 4,
  "nbformat_minor": 0
}