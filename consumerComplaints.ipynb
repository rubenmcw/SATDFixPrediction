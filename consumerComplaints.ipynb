{
  "cells": [
    {
      "cell_type": "code",
      "execution_count": null,
      "metadata": {
        "id": "7aPmd9afbFS1"
      },
      "outputs": [],
      "source": [
        "import pandas as pd\n",
        "df = pd.read_csv('new_dbSquiggly.csv', delimiter='~')\n",
        "df.head()"
      ]
    },
    {
      "cell_type": "code",
      "execution_count": null,
      "metadata": {
        "collapsed": true,
        "id": "k2DaSQJcbFS6"
      },
      "outputs": [],
      "source": [
        "df = df[pd.notnull(df['v1_comment'])]"
      ]
    },
    {
      "cell_type": "code",
      "execution_count": null,
      "metadata": {
        "id": "h3s32RKfbFS6"
      },
      "outputs": [],
      "source": [
        "df.info()"
      ]
    },
    {
      "cell_type": "code",
      "execution_count": null,
      "metadata": {
        "collapsed": true,
        "id": "IS88hupybFS7"
      },
      "outputs": [],
      "source": [
        "col = ['Satd_type', 'v1_comment']\n",
        "df = df[col]"
      ]
    },
    {
      "cell_type": "code",
      "execution_count": null,
      "metadata": {
        "id": "g0p0u_gmbFS7"
      },
      "outputs": [],
      "source": [
        "df.columns"
      ]
    },
    {
      "cell_type": "code",
      "execution_count": null,
      "metadata": {
        "collapsed": true,
        "id": "--nz4VmrbFS8"
      },
      "outputs": [],
      "source": [
        "df.columns = ['Satd_type', 'v1_comment']"
      ]
    },
    {
      "cell_type": "code",
      "execution_count": null,
      "metadata": {
        "collapsed": true,
        "id": "SLkEjg8lbFS8"
      },
      "outputs": [],
      "source": [
        "df['category_id'] = df['Satd_type'].factorize()[0]\n",
        "from io import StringIO\n",
        "category_id_df = df[['Satd_type', 'category_id']].drop_duplicates().sort_values('category_id')\n",
        "category_to_id = dict(category_id_df.values)\n",
        "id_to_category = dict(category_id_df[['category_id', 'Satd_type']].values)"
      ]
    },
    {
      "cell_type": "code",
      "execution_count": null,
      "metadata": {
        "id": "lWA8vi6kbFS9"
      },
      "outputs": [],
      "source": [
        "df.head()"
      ]
    },
    {
      "cell_type": "code",
      "execution_count": null,
      "metadata": {
        "id": "PaLZO7-ZbFS-"
      },
      "outputs": [],
      "source": [
        "import matplotlib.pyplot as plt\n",
        "fig = plt.figure(figsize=(8,6))\n",
        "df.groupby('Satd_type').v1_comment.count().plot.bar(ylim=0)\n",
        "plt.show()"
      ]
    },
    {
      "cell_type": "code",
      "execution_count": null,
      "metadata": {
        "id": "YpxS4ZUTbFS_"
      },
      "outputs": [],
      "source": [
        "from sklearn.feature_extraction.text import TfidfVectorizer\n",
        "\n",
        "tfidf = TfidfVectorizer(sublinear_tf=True, min_df=5, norm='l2', encoding='latin-1', ngram_range=(1, 2), stop_words='english')\n",
        "\n",
        "features = tfidf.fit_transform(df.v1_comment).toarray()\n",
        "labels = df.category_id\n",
        "features.shape"
      ]
    },
    {
      "cell_type": "code",
      "execution_count": null,
      "metadata": {
        "scrolled": false,
        "id": "MD-_Cd9YbFS_"
      },
      "outputs": [],
      "source": [
        "from sklearn.feature_selection import chi2\n",
        "import numpy as np\n",
        "\n",
        "N = 2\n",
        "for Satd_type, category_id in sorted(category_to_id.items()):\n",
        "  features_chi2 = chi2(features, labels == category_id)\n",
        "  indices = np.argsort(features_chi2[0])\n",
        "  feature_names = np.array(tfidf.get_feature_names())[indices]\n",
        "  unigrams = [v for v in feature_names if len(v.split(' ')) == 1]\n",
        "  bigrams = [v for v in feature_names if len(v.split(' ')) == 2]\n",
        "  print(\"# '{}':\".format(Satd_type))\n",
        "  print(\"  . Most correlated unigrams:\\n       . {}\".format('\\n       . '.join(unigrams[-N:])))\n",
        "  print(\"  . Most correlated bigrams:\\n       . {}\".format('\\n       . '.join(bigrams[-N:])))"
      ]
    },
    {
      "cell_type": "code",
      "execution_count": null,
      "metadata": {
        "collapsed": true,
        "id": "0T4J9WY6bFTA"
      },
      "outputs": [],
      "source": [
        "from sklearn.model_selection import train_test_split\n",
        "from sklearn.feature_extraction.text import CountVectorizer\n",
        "from sklearn.feature_extraction.text import TfidfTransformer\n",
        "from sklearn.naive_bayes import MultinomialNB\n",
        "\n",
        "X_train, X_test, y_train, y_test = train_test_split(df['v1_comment'], df['Satd_type'], random_state = 0)\n",
        "count_vect = CountVectorizer()\n",
        "X_train_counts = count_vect.fit_transform(X_train)\n",
        "tfidf_transformer = TfidfTransformer()\n",
        "X_train_tfidf = tfidf_transformer.fit_transform(X_train_counts)\n",
        "\n",
        "clf = MultinomialNB().fit(X_train_tfidf, y_train)"
      ]
    },
    {
      "cell_type": "code",
      "execution_count": null,
      "metadata": {
        "id": "cF6UJ2KubFTB"
      },
      "outputs": [],
      "source": [
        "#print(clf.predict(count_vect.transform([\"This company refuses to provide me verification and validation of debt per my right under the FDCPA. I do not believe this debt is mine.\"])))"
      ]
    },
    {
      "cell_type": "code",
      "execution_count": null,
      "metadata": {
        "id": "RKBeVnmWbFTB"
      },
      "outputs": [],
      "source": [
        "#print(clf.predict(count_vect.transform([\"I am disputing the inaccurate information the Chex-Systems has on my credit report. I initially submitted a police report on XXXX/XXXX/16 and Chex Systems only deleted the items that I mentioned in the letter and not all the items that were actually listed on the police report. In other words they wanted me to say word for word to them what items were fraudulent. The total disregard of the police report and what accounts that it states that are fraudulent. If they just had paid a little closer attention to the police report I would not been in this position now and they would n't have to research once again. I would like the reported information to be removed : XXXX XXXX XXXX\"])))"
      ]
    },
    {
      "cell_type": "code",
      "execution_count": null,
      "metadata": {
        "id": "tPcZVUbAbFTC"
      },
      "outputs": [],
      "source": [
        "#df[df['Consumer_complaint_narrative'] == \"This company refuses to provide me verification and validation of debt per my right under the FDCPA. I do not believe this debt is mine.\"]"
      ]
    },
    {
      "cell_type": "code",
      "execution_count": null,
      "metadata": {
        "id": "X16xdBV5bFTC"
      },
      "outputs": [],
      "source": [
        "#df[df['Consumer_complaint_narrative'] == \"I am disputing the inaccurate information the Chex-Systems has on my credit report. I initially submitted a police report on XXXX/XXXX/16 and Chex Systems only deleted the items that I mentioned in the letter and not all the items that were actually listed on the police report. In other words they wanted me to say word for word to them what items were fraudulent. The total disregard of the police report and what accounts that it states that are fraudulent. If they just had paid a little closer attention to the police report I would not been in this position now and they would n't have to research once again. I would like the reported information to be removed : XXXX XXXX XXXX\"]"
      ]
    },
    {
      "cell_type": "code",
      "execution_count": null,
      "metadata": {
        "id": "2M2sDz0cbFTC"
      },
      "outputs": [],
      "source": [
        "from sklearn.linear_model import LogisticRegression\n",
        "from sklearn.ensemble import RandomForestClassifier\n",
        "from sklearn.naive_bayes import MultinomialNB\n",
        "from sklearn.svm import LinearSVC\n",
        "\n",
        "from sklearn.model_selection import cross_val_score\n",
        "\n",
        "\n",
        "models = [\n",
        "    RandomForestClassifier(n_estimators=200, max_depth=3, random_state=0),\n",
        "    LinearSVC(),\n",
        "    MultinomialNB(),\n",
        "    LogisticRegression(random_state=0),\n",
        "]\n",
        "CV = 5\n",
        "cv_df = pd.DataFrame(index=range(CV * len(models)))\n",
        "entries = []\n",
        "for model in models:\n",
        "  model_name = model.__class__.__name__\n",
        "  accuracies = cross_val_score(model, features, labels, scoring='accuracy', cv=CV)\n",
        "  for fold_idx, accuracy in enumerate(accuracies):\n",
        "    entries.append((model_name, fold_idx, accuracy))\n",
        "cv_df = pd.DataFrame(entries, columns=['model_name', 'fold_idx', 'accuracy'])"
      ]
    },
    {
      "cell_type": "code",
      "execution_count": null,
      "metadata": {
        "id": "lsZJ3SjcbFTD"
      },
      "outputs": [],
      "source": [
        "import seaborn as sns\n",
        "\n",
        "sns.boxplot(x='model_name', y='accuracy', data=cv_df)\n",
        "sns.stripplot(x='model_name', y='accuracy', data=cv_df, \n",
        "              size=8, jitter=True, edgecolor=\"gray\", linewidth=2)\n",
        "plt.show()"
      ]
    },
    {
      "cell_type": "code",
      "execution_count": null,
      "metadata": {
        "id": "uvkTOjkJbFTD"
      },
      "outputs": [],
      "source": [
        "cv_df.groupby('model_name').accuracy.mean()"
      ]
    },
    {
      "cell_type": "code",
      "execution_count": null,
      "metadata": {
        "collapsed": true,
        "id": "y514JIeWbFTD"
      },
      "outputs": [],
      "source": [
        "from sklearn.model_selection import train_test_split\n",
        "\n",
        "model = RandomForestClassifier(n_estimators=200, max_depth=3, random_state=0)\n",
        "\n",
        "X_train, X_test, y_train, y_test, indices_train, indices_test = train_test_split(features, labels, df.index, test_size=0.33, random_state=0)\n",
        "model.fit(X_train, y_train)\n",
        "y_pred = model.predict(X_test)"
      ]
    },
    {
      "cell_type": "code",
      "execution_count": null,
      "metadata": {
        "id": "8HC5TOC0bFTE"
      },
      "outputs": [],
      "source": [
        "from sklearn.metrics import confusion_matrix\n",
        "\n",
        "conf_mat = confusion_matrix(y_test, y_pred)\n",
        "fig, ax = plt.subplots(figsize=(8,6))\n",
        "sns.heatmap(conf_mat, annot=True, fmt='d',\n",
        "            xticklabels=category_id_df.Satd_type.values, yticklabels=category_id_df.Satd_type.values)\n",
        "plt.ylabel('Actual')\n",
        "plt.xlabel('Predicted')\n",
        "plt.show()"
      ]
    },
    {
      "cell_type": "code",
      "execution_count": null,
      "metadata": {
        "scrolled": false,
        "id": "mYOEVAKlbFTE"
      },
      "outputs": [],
      "source": [
        "from IPython.display import display\n",
        "\n",
        "for predicted in category_id_df.category_id:\n",
        "  for actual in category_id_df.category_id:\n",
        "    if predicted != actual and conf_mat[actual, predicted] >= 6:\n",
        "      print(\"'{}' predicted as '{}' : {} examples.\".format(id_to_category[actual], id_to_category[predicted], conf_mat[actual, predicted]))\n",
        "      display(df.loc[indices_test[(y_test == actual) & (y_pred == predicted)]][['Satd_type', 'v1_comment']])\n",
        "      print('')"
      ]
    },
    {
      "cell_type": "code",
      "execution_count": null,
      "metadata": {
        "id": "I5-HteBbbFTE"
      },
      "outputs": [],
      "source": [
        "model.fit(features, labels)"
      ]
    },
    {
      "cell_type": "code",
      "execution_count": null,
      "metadata": {
        "scrolled": false,
        "id": "LZ98ljvpbFTE"
      },
      "outputs": [],
      "source": [
        "# from sklearn.feature_selection import chi2\n",
        "\n",
        "# N = 2\n",
        "# for Satd_type, category_id in sorted(category_to_id.items()):\n",
        "#   indices = np.argsort(model.coef_[category_id])\n",
        "#   feature_names = np.array(tfidf.get_feature_names())[indices]\n",
        "#   unigrams = [v for v in reversed(feature_names) if len(v.split(' ')) == 1][:N]\n",
        "#   bigrams = [v for v in reversed(feature_names) if len(v.split(' ')) == 2][:N]\n",
        "#   print(\"# '{}':\".format(Satd_type))\n",
        "#   print(\"  . Top unigrams:\\n       . {}\".format('\\n       . '.join(unigrams)))\n",
        "#   print(\"  . Top bigrams:\\n       . {}\".format('\\n       . '.join(bigrams)))"
      ]
    },
    {
      "cell_type": "code",
      "execution_count": null,
      "metadata": {
        "id": "vygN5bKobFTE",
        "colab": {
          "base_uri": "https://localhost:8080/"
        },
        "outputId": "788c5b31-942d-45c8-979e-e20abb5aa8cc"
      },
      "outputs": [
        {
          "metadata": {
            "tags": null
          },
          "name": "stdout",
          "output_type": "stream",
          "text": [
            "\"FIXME throw assertion exception if constraintValidatorType == null\"\n",
            "  - Predicted as: 'SATD_REMOVED'\n",
            "\n",
            "\"TODO order by sum tag\"\n",
            "  - Predicted as: 'SATD_REMOVED'\n",
            "\n",
            "\"TODO remove the part with ToolchainManager lookup once we depend on 3.0.9 (have it as prerequisite). Define as regular component field then.\"\n",
            "  - Predicted as: 'SATD_REMOVED'\n",
            "\n",
            "\"I have no money to pay my tuition\"\n",
            "  - Predicted as: 'SATD_REMOVED'\n",
            "\n",
            "\"Coinbase closed my account for no reason and furthermore refused to give me a reason despite dozens of request\"\n",
            "  - Predicted as: 'SATD_REMOVED'\n",
            "\n"
          ]
        }
      ],
      "source": [
        "texts = [\"FIXME throw assertion exception if constraintValidatorType == null\",\n",
        "         \"TODO order by sum tag\",\n",
        "         \"TODO remove the part with ToolchainManager lookup once we depend on 3.0.9 (have it as prerequisite). Define as regular component field then.\",\n",
        "         \"I have no money to pay my tuition\",\n",
        "         \"Coinbase closed my account for no reason and furthermore refused to give me a reason despite dozens of request\"]\n",
        "         \n",
        "text_features = tfidf.transform(texts)\n",
        "predictions = model.predict(text_features)\n",
        "for text, predicted in zip(texts, predictions):\n",
        "  print('\"{}\"'.format(text))\n",
        "  print(\"  - Predicted as: '{}'\".format(id_to_category[predicted]))\n",
        "  print(\"\")"
      ]
    },
    {
      "cell_type": "code",
      "execution_count": null,
      "metadata": {
        "id": "NHgr0-CMbFTF",
        "colab": {
          "base_uri": "https://localhost:8080/"
        },
        "outputId": "e502589e-ba37-49bf-d4c3-29505d6a29be"
      },
      "outputs": [
        {
          "metadata": {
            "tags": null
          },
          "name": "stdout",
          "output_type": "stream",
          "text": [
            "                         precision    recall  f1-score   support\n",
            "\n",
            "           SATD_CHANGED       0.00      0.00      0.00        12\n",
            "           SATD_REMOVED       0.75      1.00      0.86       180\n",
            "CLASS_OR_METHOD_CHANGED       0.00      0.00      0.00        26\n",
            "      FILE_PATH_CHANGED       0.00      0.00      0.00        22\n",
            "        SATD_MOVED_FILE       0.00      0.00      0.00         1\n",
            "\n",
            "               accuracy                           0.75       241\n",
            "              macro avg       0.15      0.20      0.17       241\n",
            "           weighted avg       0.56      0.75      0.64       241\n",
            "\n"
          ]
        },
        {
          "metadata": {
            "tags": null
          },
          "name": "stderr",
          "output_type": "stream",
          "text": [
            "/usr/local/lib/python3.7/dist-packages/sklearn/metrics/_classification.py:1318: UndefinedMetricWarning: Precision and F-score are ill-defined and being set to 0.0 in labels with no predicted samples. Use `zero_division` parameter to control this behavior.\n",
            "  _warn_prf(average, modifier, msg_start, len(result))\n",
            "/usr/local/lib/python3.7/dist-packages/sklearn/metrics/_classification.py:1318: UndefinedMetricWarning: Precision and F-score are ill-defined and being set to 0.0 in labels with no predicted samples. Use `zero_division` parameter to control this behavior.\n",
            "  _warn_prf(average, modifier, msg_start, len(result))\n",
            "/usr/local/lib/python3.7/dist-packages/sklearn/metrics/_classification.py:1318: UndefinedMetricWarning: Precision and F-score are ill-defined and being set to 0.0 in labels with no predicted samples. Use `zero_division` parameter to control this behavior.\n",
            "  _warn_prf(average, modifier, msg_start, len(result))\n"
          ]
        }
      ],
      "source": [
        "from sklearn import metrics\n",
        "print(metrics.classification_report(y_test, y_pred, \n",
        "                                    target_names=df['Satd_type'].unique()))"
      ]
    }
  ],
  "metadata": {
    "kernelspec": {
      "display_name": "conda_python3",
      "language": "python",
      "name": "conda_python3"
    },
    "language_info": {
      "codemirror_mode": {
        "name": "ipython",
        "version": 3
      },
      "file_extension": ".py",
      "mimetype": "text/x-python",
      "name": "python",
      "nbconvert_exporter": "python",
      "pygments_lexer": "ipython3",
      "version": "3.6.2"
    },
    "colab": {
      "name": "Consumer_complaints.ipynb",
      "provenance": [],
      "collapsed_sections": []
    }
  },
  "nbformat": 4,
  "nbformat_minor": 0
}