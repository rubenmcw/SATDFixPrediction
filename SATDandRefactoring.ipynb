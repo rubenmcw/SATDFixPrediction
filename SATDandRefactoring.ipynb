{
  "cells": [
    {
      "cell_type": "markdown",
      "source": [
        "###Preprocessing"
      ],
      "metadata": {
        "id": "E3myst4e2EEs"
      }
    },
    {
      "cell_type": "code",
      "execution_count": 1,
      "metadata": {
        "colab": {
          "base_uri": "https://localhost:8080/",
          "height": 206
        },
        "id": "7aPmd9afbFS1",
        "outputId": "98862ccb-88c7-48d8-bee9-0499e68c544c"
      },
      "outputs": [
        {
          "output_type": "execute_result",
          "data": {
            "text/plain": [
              "      Satd_type                                         v1_comment\n",
              "0  SATD_CHANGED  TODO: Load analysis data FIXME results .csv fr...\n",
              "1  SATD_REMOVED  TODO: Load analysis data FIXME results .csv fr...\n",
              "2  SATD_REMOVED                           FIXME: use analysis name\n",
              "3  SATD_REMOVED                                             FIXME:\n",
              "4  SATD_REMOVED  TODO: sort func must be independent of param i..."
            ],
            "text/html": [
              "\n",
              "  <div id=\"df-381906ff-44bd-43d1-97f3-020ebbd0e558\">\n",
              "    <div class=\"colab-df-container\">\n",
              "      <div>\n",
              "<style scoped>\n",
              "    .dataframe tbody tr th:only-of-type {\n",
              "        vertical-align: middle;\n",
              "    }\n",
              "\n",
              "    .dataframe tbody tr th {\n",
              "        vertical-align: top;\n",
              "    }\n",
              "\n",
              "    .dataframe thead th {\n",
              "        text-align: right;\n",
              "    }\n",
              "</style>\n",
              "<table border=\"1\" class=\"dataframe\">\n",
              "  <thead>\n",
              "    <tr style=\"text-align: right;\">\n",
              "      <th></th>\n",
              "      <th>Satd_type</th>\n",
              "      <th>v1_comment</th>\n",
              "    </tr>\n",
              "  </thead>\n",
              "  <tbody>\n",
              "    <tr>\n",
              "      <th>0</th>\n",
              "      <td>SATD_CHANGED</td>\n",
              "      <td>TODO: Load analysis data FIXME results .csv fr...</td>\n",
              "    </tr>\n",
              "    <tr>\n",
              "      <th>1</th>\n",
              "      <td>SATD_REMOVED</td>\n",
              "      <td>TODO: Load analysis data FIXME results .csv fr...</td>\n",
              "    </tr>\n",
              "    <tr>\n",
              "      <th>2</th>\n",
              "      <td>SATD_REMOVED</td>\n",
              "      <td>FIXME: use analysis name</td>\n",
              "    </tr>\n",
              "    <tr>\n",
              "      <th>3</th>\n",
              "      <td>SATD_REMOVED</td>\n",
              "      <td>FIXME:</td>\n",
              "    </tr>\n",
              "    <tr>\n",
              "      <th>4</th>\n",
              "      <td>SATD_REMOVED</td>\n",
              "      <td>TODO: sort func must be independent of param i...</td>\n",
              "    </tr>\n",
              "  </tbody>\n",
              "</table>\n",
              "</div>\n",
              "      <button class=\"colab-df-convert\" onclick=\"convertToInteractive('df-381906ff-44bd-43d1-97f3-020ebbd0e558')\"\n",
              "              title=\"Convert this dataframe to an interactive table.\"\n",
              "              style=\"display:none;\">\n",
              "        \n",
              "  <svg xmlns=\"http://www.w3.org/2000/svg\" height=\"24px\"viewBox=\"0 0 24 24\"\n",
              "       width=\"24px\">\n",
              "    <path d=\"M0 0h24v24H0V0z\" fill=\"none\"/>\n",
              "    <path d=\"M18.56 5.44l.94 2.06.94-2.06 2.06-.94-2.06-.94-.94-2.06-.94 2.06-2.06.94zm-11 1L8.5 8.5l.94-2.06 2.06-.94-2.06-.94L8.5 2.5l-.94 2.06-2.06.94zm10 10l.94 2.06.94-2.06 2.06-.94-2.06-.94-.94-2.06-.94 2.06-2.06.94z\"/><path d=\"M17.41 7.96l-1.37-1.37c-.4-.4-.92-.59-1.43-.59-.52 0-1.04.2-1.43.59L10.3 9.45l-7.72 7.72c-.78.78-.78 2.05 0 2.83L4 21.41c.39.39.9.59 1.41.59.51 0 1.02-.2 1.41-.59l7.78-7.78 2.81-2.81c.8-.78.8-2.07 0-2.86zM5.41 20L4 18.59l7.72-7.72 1.47 1.35L5.41 20z\"/>\n",
              "  </svg>\n",
              "      </button>\n",
              "      \n",
              "  <style>\n",
              "    .colab-df-container {\n",
              "      display:flex;\n",
              "      flex-wrap:wrap;\n",
              "      gap: 12px;\n",
              "    }\n",
              "\n",
              "    .colab-df-convert {\n",
              "      background-color: #E8F0FE;\n",
              "      border: none;\n",
              "      border-radius: 50%;\n",
              "      cursor: pointer;\n",
              "      display: none;\n",
              "      fill: #1967D2;\n",
              "      height: 32px;\n",
              "      padding: 0 0 0 0;\n",
              "      width: 32px;\n",
              "    }\n",
              "\n",
              "    .colab-df-convert:hover {\n",
              "      background-color: #E2EBFA;\n",
              "      box-shadow: 0px 1px 2px rgba(60, 64, 67, 0.3), 0px 1px 3px 1px rgba(60, 64, 67, 0.15);\n",
              "      fill: #174EA6;\n",
              "    }\n",
              "\n",
              "    [theme=dark] .colab-df-convert {\n",
              "      background-color: #3B4455;\n",
              "      fill: #D2E3FC;\n",
              "    }\n",
              "\n",
              "    [theme=dark] .colab-df-convert:hover {\n",
              "      background-color: #434B5C;\n",
              "      box-shadow: 0px 1px 3px 1px rgba(0, 0, 0, 0.15);\n",
              "      filter: drop-shadow(0px 1px 2px rgba(0, 0, 0, 0.3));\n",
              "      fill: #FFFFFF;\n",
              "    }\n",
              "  </style>\n",
              "\n",
              "      <script>\n",
              "        const buttonEl =\n",
              "          document.querySelector('#df-381906ff-44bd-43d1-97f3-020ebbd0e558 button.colab-df-convert');\n",
              "        buttonEl.style.display =\n",
              "          google.colab.kernel.accessAllowed ? 'block' : 'none';\n",
              "\n",
              "        async function convertToInteractive(key) {\n",
              "          const element = document.querySelector('#df-381906ff-44bd-43d1-97f3-020ebbd0e558');\n",
              "          const dataTable =\n",
              "            await google.colab.kernel.invokeFunction('convertToInteractive',\n",
              "                                                     [key], {});\n",
              "          if (!dataTable) return;\n",
              "\n",
              "          const docLinkHtml = 'Like what you see? Visit the ' +\n",
              "            '<a target=\"_blank\" href=https://colab.research.google.com/notebooks/data_table.ipynb>data table notebook</a>'\n",
              "            + ' to learn more about interactive tables.';\n",
              "          element.innerHTML = '';\n",
              "          dataTable['output_type'] = 'display_data';\n",
              "          await google.colab.output.renderOutput(dataTable, element);\n",
              "          const docLink = document.createElement('div');\n",
              "          docLink.innerHTML = docLinkHtml;\n",
              "          element.appendChild(docLink);\n",
              "        }\n",
              "      </script>\n",
              "    </div>\n",
              "  </div>\n",
              "  "
            ]
          },
          "metadata": {},
          "execution_count": 1
        }
      ],
      "source": [
        "import pandas as pd\n",
        "df = pd.read_csv('new_dbSquiggly.csv', delimiter='~')\n",
        "df.head()"
      ]
    },
    {
      "cell_type": "code",
      "execution_count": 2,
      "metadata": {
        "collapsed": true,
        "id": "k2DaSQJcbFS6"
      },
      "outputs": [],
      "source": [
        "df = df[pd.notnull(df['v1_comment'])]"
      ]
    },
    {
      "cell_type": "code",
      "execution_count": 3,
      "metadata": {
        "colab": {
          "base_uri": "https://localhost:8080/"
        },
        "id": "h3s32RKfbFS6",
        "outputId": "e47737d1-b847-4ffb-9e0e-cf72e6ec7e16"
      },
      "outputs": [
        {
          "output_type": "stream",
          "name": "stdout",
          "text": [
            "<class 'pandas.core.frame.DataFrame'>\n",
            "Int64Index: 729 entries, 0 to 728\n",
            "Data columns (total 2 columns):\n",
            " #   Column      Non-Null Count  Dtype \n",
            "---  ------      --------------  ----- \n",
            " 0   Satd_type   729 non-null    object\n",
            " 1   v1_comment  729 non-null    object\n",
            "dtypes: object(2)\n",
            "memory usage: 17.1+ KB\n"
          ]
        }
      ],
      "source": [
        "df.info()"
      ]
    },
    {
      "cell_type": "code",
      "execution_count": 4,
      "metadata": {
        "collapsed": true,
        "id": "IS88hupybFS7"
      },
      "outputs": [],
      "source": [
        "col = ['Satd_type', 'v1_comment']\n",
        "df = df[col]"
      ]
    },
    {
      "cell_type": "code",
      "execution_count": 5,
      "metadata": {
        "colab": {
          "base_uri": "https://localhost:8080/"
        },
        "id": "g0p0u_gmbFS7",
        "outputId": "fe678337-069d-48f4-80bf-4854485dec84"
      },
      "outputs": [
        {
          "output_type": "execute_result",
          "data": {
            "text/plain": [
              "Index(['Satd_type', 'v1_comment'], dtype='object')"
            ]
          },
          "metadata": {},
          "execution_count": 5
        }
      ],
      "source": [
        "df.columns"
      ]
    },
    {
      "cell_type": "code",
      "execution_count": 6,
      "metadata": {
        "collapsed": true,
        "id": "--nz4VmrbFS8"
      },
      "outputs": [],
      "source": [
        "df.columns = ['Satd_type', 'v1_comment']"
      ]
    },
    {
      "cell_type": "code",
      "execution_count": 7,
      "metadata": {
        "collapsed": true,
        "id": "SLkEjg8lbFS8",
        "colab": {
          "base_uri": "https://localhost:8080/"
        },
        "outputId": "fba3f8f8-c7c3-4d46-913b-59c6af3d4a44"
      },
      "outputs": [
        {
          "output_type": "execute_result",
          "data": {
            "text/plain": [
              "{0: 'SATD_CHANGED',\n",
              " 1: 'SATD_REMOVED',\n",
              " 2: 'CLASS_OR_METHOD_CHANGED',\n",
              " 3: 'FILE_PATH_CHANGED',\n",
              " 4: 'SATD_MOVED_FILE'}"
            ]
          },
          "metadata": {},
          "execution_count": 7
        }
      ],
      "source": [
        "df['category_id'] = df['Satd_type'].factorize()[0]\n",
        "from io import StringIO\n",
        "category_id_df = df[['Satd_type', 'category_id']].drop_duplicates().sort_values('category_id') #Removing duplicates\n",
        "category_to_id = dict(category_id_df.values)\n",
        "id_to_category = dict(category_id_df[['category_id', 'Satd_type']].values) #Converting datd_type to categorical data\n",
        "id_to_category"
      ]
    },
    {
      "cell_type": "code",
      "source": [
        "count = 0\n",
        "for a in df.v1_comment:\n",
        "  if len(a.split()) < 4: #Finding all the data which has fewer than 4 words \n",
        "    count += 1\n",
        "count"
      ],
      "metadata": {
        "colab": {
          "base_uri": "https://localhost:8080/"
        },
        "id": "SenIEYuAyCPa",
        "outputId": "2628f100-ebf2-4f33-ef6b-e6450d6df3bd"
      },
      "execution_count": 8,
      "outputs": [
        {
          "output_type": "execute_result",
          "data": {
            "text/plain": [
              "99"
            ]
          },
          "metadata": {},
          "execution_count": 8
        }
      ]
    },
    {
      "cell_type": "code",
      "source": [
        "! pip install langid"
      ],
      "metadata": {
        "colab": {
          "base_uri": "https://localhost:8080/"
        },
        "id": "qT8ov7IXxLgl",
        "outputId": "4be48b23-e588-43b1-ece2-0b1fd2d3a8a2"
      },
      "execution_count": 9,
      "outputs": [
        {
          "output_type": "stream",
          "name": "stdout",
          "text": [
            "Requirement already satisfied: langid in /usr/local/lib/python3.7/dist-packages (1.1.6)\n",
            "Requirement already satisfied: numpy in /usr/local/lib/python3.7/dist-packages (from langid) (1.21.6)\n"
          ]
        }
      ]
    },
    {
      "cell_type": "code",
      "execution_count": 10,
      "metadata": {
        "id": "0OdyVGI8f1vq",
        "colab": {
          "base_uri": "https://localhost:8080/"
        },
        "outputId": "447b89e5-b656-4f09-b680-c2df33ac32e5"
      },
      "outputs": [
        {
          "output_type": "execute_result",
          "data": {
            "text/plain": [
              "582"
            ]
          },
          "metadata": {},
          "execution_count": 10
        }
      ],
      "source": [
        "import langid\n",
        "count = 0\n",
        "for a in df.v1_comment:\n",
        "  if len(a.split()) > 3 and langid.classify(a)[0] == 'en': #Finding all the data which has more than 3 words and also is english\n",
        "    count += 1\n",
        "count"
      ]
    },
    {
      "cell_type": "code",
      "source": [
        "df = df[[(len(x.split()) > 3 and langid.classify(x)[0] == 'en') for x in df['v1_comment']]]\n",
        "df.info()"
      ],
      "metadata": {
        "colab": {
          "base_uri": "https://localhost:8080/"
        },
        "id": "ESfFNWSegXdw",
        "outputId": "71fbe676-ff62-444e-fa33-cf063d1e1d9f"
      },
      "execution_count": 11,
      "outputs": [
        {
          "output_type": "stream",
          "name": "stdout",
          "text": [
            "<class 'pandas.core.frame.DataFrame'>\n",
            "Int64Index: 582 entries, 0 to 728\n",
            "Data columns (total 3 columns):\n",
            " #   Column       Non-Null Count  Dtype \n",
            "---  ------       --------------  ----- \n",
            " 0   Satd_type    582 non-null    object\n",
            " 1   v1_comment   582 non-null    object\n",
            " 2   category_id  582 non-null    int64 \n",
            "dtypes: int64(1), object(2)\n",
            "memory usage: 18.2+ KB\n"
          ]
        }
      ]
    },
    {
      "cell_type": "code",
      "source": [
        "# df = df.drop_duplicates()\n",
        "df = df.reset_index(drop=True) #Resetting the index"
      ],
      "metadata": {
        "id": "ARMAjVvqiZ8Y"
      },
      "execution_count": 12,
      "outputs": []
    },
    {
      "cell_type": "code",
      "execution_count": 13,
      "metadata": {
        "colab": {
          "base_uri": "https://localhost:8080/",
          "height": 206
        },
        "id": "lWA8vi6kbFS9",
        "outputId": "3470fdb9-7e98-458b-f00c-e6d66650fb7f"
      },
      "outputs": [
        {
          "output_type": "execute_result",
          "data": {
            "text/plain": [
              "      Satd_type                                         v1_comment  \\\n",
              "0  SATD_CHANGED  TODO: Load analysis data FIXME results .csv fr...   \n",
              "1  SATD_REMOVED  TODO: Load analysis data FIXME results .csv fr...   \n",
              "2  SATD_REMOVED                           FIXME: use analysis name   \n",
              "3  SATD_REMOVED  TODO: sort func must be independent of param i...   \n",
              "4  SATD_REMOVED                              TODO order by sum tag   \n",
              "\n",
              "   category_id  \n",
              "0            0  \n",
              "1            1  \n",
              "2            1  \n",
              "3            1  \n",
              "4            1  "
            ],
            "text/html": [
              "\n",
              "  <div id=\"df-4fe5aaa0-bae9-471d-8fc5-9ca4a2197407\">\n",
              "    <div class=\"colab-df-container\">\n",
              "      <div>\n",
              "<style scoped>\n",
              "    .dataframe tbody tr th:only-of-type {\n",
              "        vertical-align: middle;\n",
              "    }\n",
              "\n",
              "    .dataframe tbody tr th {\n",
              "        vertical-align: top;\n",
              "    }\n",
              "\n",
              "    .dataframe thead th {\n",
              "        text-align: right;\n",
              "    }\n",
              "</style>\n",
              "<table border=\"1\" class=\"dataframe\">\n",
              "  <thead>\n",
              "    <tr style=\"text-align: right;\">\n",
              "      <th></th>\n",
              "      <th>Satd_type</th>\n",
              "      <th>v1_comment</th>\n",
              "      <th>category_id</th>\n",
              "    </tr>\n",
              "  </thead>\n",
              "  <tbody>\n",
              "    <tr>\n",
              "      <th>0</th>\n",
              "      <td>SATD_CHANGED</td>\n",
              "      <td>TODO: Load analysis data FIXME results .csv fr...</td>\n",
              "      <td>0</td>\n",
              "    </tr>\n",
              "    <tr>\n",
              "      <th>1</th>\n",
              "      <td>SATD_REMOVED</td>\n",
              "      <td>TODO: Load analysis data FIXME results .csv fr...</td>\n",
              "      <td>1</td>\n",
              "    </tr>\n",
              "    <tr>\n",
              "      <th>2</th>\n",
              "      <td>SATD_REMOVED</td>\n",
              "      <td>FIXME: use analysis name</td>\n",
              "      <td>1</td>\n",
              "    </tr>\n",
              "    <tr>\n",
              "      <th>3</th>\n",
              "      <td>SATD_REMOVED</td>\n",
              "      <td>TODO: sort func must be independent of param i...</td>\n",
              "      <td>1</td>\n",
              "    </tr>\n",
              "    <tr>\n",
              "      <th>4</th>\n",
              "      <td>SATD_REMOVED</td>\n",
              "      <td>TODO order by sum tag</td>\n",
              "      <td>1</td>\n",
              "    </tr>\n",
              "  </tbody>\n",
              "</table>\n",
              "</div>\n",
              "      <button class=\"colab-df-convert\" onclick=\"convertToInteractive('df-4fe5aaa0-bae9-471d-8fc5-9ca4a2197407')\"\n",
              "              title=\"Convert this dataframe to an interactive table.\"\n",
              "              style=\"display:none;\">\n",
              "        \n",
              "  <svg xmlns=\"http://www.w3.org/2000/svg\" height=\"24px\"viewBox=\"0 0 24 24\"\n",
              "       width=\"24px\">\n",
              "    <path d=\"M0 0h24v24H0V0z\" fill=\"none\"/>\n",
              "    <path d=\"M18.56 5.44l.94 2.06.94-2.06 2.06-.94-2.06-.94-.94-2.06-.94 2.06-2.06.94zm-11 1L8.5 8.5l.94-2.06 2.06-.94-2.06-.94L8.5 2.5l-.94 2.06-2.06.94zm10 10l.94 2.06.94-2.06 2.06-.94-2.06-.94-.94-2.06-.94 2.06-2.06.94z\"/><path d=\"M17.41 7.96l-1.37-1.37c-.4-.4-.92-.59-1.43-.59-.52 0-1.04.2-1.43.59L10.3 9.45l-7.72 7.72c-.78.78-.78 2.05 0 2.83L4 21.41c.39.39.9.59 1.41.59.51 0 1.02-.2 1.41-.59l7.78-7.78 2.81-2.81c.8-.78.8-2.07 0-2.86zM5.41 20L4 18.59l7.72-7.72 1.47 1.35L5.41 20z\"/>\n",
              "  </svg>\n",
              "      </button>\n",
              "      \n",
              "  <style>\n",
              "    .colab-df-container {\n",
              "      display:flex;\n",
              "      flex-wrap:wrap;\n",
              "      gap: 12px;\n",
              "    }\n",
              "\n",
              "    .colab-df-convert {\n",
              "      background-color: #E8F0FE;\n",
              "      border: none;\n",
              "      border-radius: 50%;\n",
              "      cursor: pointer;\n",
              "      display: none;\n",
              "      fill: #1967D2;\n",
              "      height: 32px;\n",
              "      padding: 0 0 0 0;\n",
              "      width: 32px;\n",
              "    }\n",
              "\n",
              "    .colab-df-convert:hover {\n",
              "      background-color: #E2EBFA;\n",
              "      box-shadow: 0px 1px 2px rgba(60, 64, 67, 0.3), 0px 1px 3px 1px rgba(60, 64, 67, 0.15);\n",
              "      fill: #174EA6;\n",
              "    }\n",
              "\n",
              "    [theme=dark] .colab-df-convert {\n",
              "      background-color: #3B4455;\n",
              "      fill: #D2E3FC;\n",
              "    }\n",
              "\n",
              "    [theme=dark] .colab-df-convert:hover {\n",
              "      background-color: #434B5C;\n",
              "      box-shadow: 0px 1px 3px 1px rgba(0, 0, 0, 0.15);\n",
              "      filter: drop-shadow(0px 1px 2px rgba(0, 0, 0, 0.3));\n",
              "      fill: #FFFFFF;\n",
              "    }\n",
              "  </style>\n",
              "\n",
              "      <script>\n",
              "        const buttonEl =\n",
              "          document.querySelector('#df-4fe5aaa0-bae9-471d-8fc5-9ca4a2197407 button.colab-df-convert');\n",
              "        buttonEl.style.display =\n",
              "          google.colab.kernel.accessAllowed ? 'block' : 'none';\n",
              "\n",
              "        async function convertToInteractive(key) {\n",
              "          const element = document.querySelector('#df-4fe5aaa0-bae9-471d-8fc5-9ca4a2197407');\n",
              "          const dataTable =\n",
              "            await google.colab.kernel.invokeFunction('convertToInteractive',\n",
              "                                                     [key], {});\n",
              "          if (!dataTable) return;\n",
              "\n",
              "          const docLinkHtml = 'Like what you see? Visit the ' +\n",
              "            '<a target=\"_blank\" href=https://colab.research.google.com/notebooks/data_table.ipynb>data table notebook</a>'\n",
              "            + ' to learn more about interactive tables.';\n",
              "          element.innerHTML = '';\n",
              "          dataTable['output_type'] = 'display_data';\n",
              "          await google.colab.output.renderOutput(dataTable, element);\n",
              "          const docLink = document.createElement('div');\n",
              "          docLink.innerHTML = docLinkHtml;\n",
              "          element.appendChild(docLink);\n",
              "        }\n",
              "      </script>\n",
              "    </div>\n",
              "  </div>\n",
              "  "
            ]
          },
          "metadata": {},
          "execution_count": 13
        }
      ],
      "source": [
        "df.head()"
      ]
    },
    {
      "cell_type": "code",
      "execution_count": 14,
      "metadata": {
        "colab": {
          "base_uri": "https://localhost:8080/",
          "height": 534
        },
        "id": "PaLZO7-ZbFS-",
        "outputId": "c1c8dd34-6251-47e3-e825-9d96dfa624ed"
      },
      "outputs": [
        {
          "output_type": "display_data",
          "data": {
            "text/plain": [
              "<Figure size 576x432 with 1 Axes>"
            ],
            "image/png": "[encoded data removed]"
          },
          "metadata": {
            "needs_background": "light"
          }
        }
      ],
      "source": [
        "import matplotlib.pyplot as plt\n",
        "fig = plt.figure(figsize=(8,6))\n",
        "df.groupby('Satd_type').v1_comment.count().plot.bar(ylim=0)\n",
        "plt.show()"
      ]
    },
    {
      "cell_type": "code",
      "execution_count": 15,
      "metadata": {
        "colab": {
          "base_uri": "https://localhost:8080/"
        },
        "id": "YpxS4ZUTbFS_",
        "outputId": "2b23867d-9a9e-4d57-b232-8504f4469f5b"
      },
      "outputs": [
        {
          "output_type": "execute_result",
          "data": {
            "text/plain": [
              "(582, 251)"
            ]
          },
          "metadata": {},
          "execution_count": 15
        }
      ],
      "source": [
        "from sklearn.feature_extraction.text import TfidfVectorizer\n",
        "\n",
        "tfidf = TfidfVectorizer(sublinear_tf=True, min_df=5, norm='l2', encoding='latin-1', ngram_range=(1, 2), stop_words='english')\n",
        "\n",
        "features = tfidf.fit_transform(df.v1_comment).toarray()\n",
        "labels = df.category_id\n",
        "features.shape"
      ]
    },
    {
      "cell_type": "code",
      "execution_count": 16,
      "metadata": {
        "colab": {
          "base_uri": "https://localhost:8080/"
        },
        "id": "MD-_Cd9YbFS_",
        "outputId": "6181589a-bfbd-45b3-b3bf-08907484d535",
        "scrolled": false
      },
      "outputs": [
        {
          "output_type": "stream",
          "name": "stdout",
          "text": [
            "# 'CLASS_OR_METHOD_CHANGED':\n",
            "  . Most correlated unigrams:\n",
            "       . extract\n",
            "       . swimming\n",
            "  . Most correlated bigrams:\n",
            "       . plexus utils\n",
            "       . swimming pool\n",
            "# 'FILE_PATH_CHANGED':\n",
            "  . Most correlated unigrams:\n",
            "       . fix\n",
            "       . exception\n",
            "  . Most correlated bigrams:\n",
            "       . todo need\n",
            "       . todo filter\n",
            "# 'SATD_CHANGED':\n",
            "  . Most correlated unigrams:\n",
            "       . final\n",
            "       . file\n",
            "  . Most correlated bigrams:\n",
            "       . mime type\n",
            "       . shouldnt archiver\n",
            "# 'SATD_MOVED_FILE':\n",
            "  . Most correlated unigrams:\n",
            "       . idea\n",
            "       . determine\n",
            "  . Most correlated bigrams:\n",
            "       . ll need\n",
            "       . todo gm\n",
            "# 'SATD_REMOVED':\n",
            "  . Most correlated unigrams:\n",
            "       . good\n",
            "       . swimming\n",
            "  . Most correlated bigrams:\n",
            "       . todo filter\n",
            "       . swimming pool\n"
          ]
        },
        {
          "output_type": "stream",
          "name": "stderr",
          "text": [
            "/usr/local/lib/python3.7/dist-packages/sklearn/utils/deprecation.py:87: FutureWarning: Function get_feature_names is deprecated; get_feature_names is deprecated in 1.0 and will be removed in 1.2. Please use get_feature_names_out instead.\n",
            "  warnings.warn(msg, category=FutureWarning)\n",
            "/usr/local/lib/python3.7/dist-packages/sklearn/utils/deprecation.py:87: FutureWarning: Function get_feature_names is deprecated; get_feature_names is deprecated in 1.0 and will be removed in 1.2. Please use get_feature_names_out instead.\n",
            "  warnings.warn(msg, category=FutureWarning)\n",
            "/usr/local/lib/python3.7/dist-packages/sklearn/utils/deprecation.py:87: FutureWarning: Function get_feature_names is deprecated; get_feature_names is deprecated in 1.0 and will be removed in 1.2. Please use get_feature_names_out instead.\n",
            "  warnings.warn(msg, category=FutureWarning)\n",
            "/usr/local/lib/python3.7/dist-packages/sklearn/utils/deprecation.py:87: FutureWarning: Function get_feature_names is deprecated; get_feature_names is deprecated in 1.0 and will be removed in 1.2. Please use get_feature_names_out instead.\n",
            "  warnings.warn(msg, category=FutureWarning)\n",
            "/usr/local/lib/python3.7/dist-packages/sklearn/utils/deprecation.py:87: FutureWarning: Function get_feature_names is deprecated; get_feature_names is deprecated in 1.0 and will be removed in 1.2. Please use get_feature_names_out instead.\n",
            "  warnings.warn(msg, category=FutureWarning)\n"
          ]
        }
      ],
      "source": [
        "from sklearn.feature_selection import chi2\n",
        "import numpy as np\n",
        "\n",
        "N = 2\n",
        "for Satd_type, category_id in sorted(category_to_id.items()):\n",
        "  features_chi2 = chi2(features, labels == category_id)\n",
        "  indices = np.argsort(features_chi2[0])\n",
        "  feature_names = np.array(tfidf.get_feature_names())[indices]\n",
        "  unigrams = [v for v in feature_names if len(v.split(' ')) == 1]\n",
        "  bigrams = [v for v in feature_names if len(v.split(' ')) == 2]\n",
        "  print(\"# '{}':\".format(Satd_type))\n",
        "  print(\"  . Most correlated unigrams:\\n       . {}\".format('\\n       . '.join(unigrams[-N:])))\n",
        "  print(\"  . Most correlated bigrams:\\n       . {}\".format('\\n       . '.join(bigrams[-N:])))"
      ]
    },
    {
      "cell_type": "code",
      "execution_count": 17,
      "metadata": {
        "collapsed": true,
        "id": "0T4J9WY6bFTA"
      },
      "outputs": [],
      "source": [
        "from sklearn.model_selection import train_test_split\n",
        "from sklearn.feature_extraction.text import CountVectorizer\n",
        "from sklearn.feature_extraction.text import TfidfTransformer\n",
        "from sklearn.naive_bayes import MultinomialNB\n",
        "\n",
        "X_train, X_test, y_train, y_test = train_test_split(df['v1_comment'], df['Satd_type'], random_state = 0)\n",
        "count_vect = CountVectorizer()\n",
        "X_train_counts = count_vect.fit_transform(X_train)\n",
        "tfidf_transformer = TfidfTransformer()\n",
        "X_train_tfidf = tfidf_transformer.fit_transform(X_train_counts)\n",
        "\n",
        "clf = MultinomialNB().fit(X_train_tfidf, y_train)"
      ]
    },
    {
      "cell_type": "markdown",
      "source": [
        "###Model Selection"
      ],
      "metadata": {
        "id": "CR7jCZMz2wpG"
      }
    },
    {
      "cell_type": "code",
      "execution_count": 18,
      "metadata": {
        "id": "2M2sDz0cbFTC"
      },
      "outputs": [],
      "source": [
        "from sklearn.linear_model import LogisticRegression\n",
        "from sklearn.ensemble import RandomForestClassifier\n",
        "from sklearn.naive_bayes import MultinomialNB\n",
        "from sklearn.svm import LinearSVC\n",
        "\n",
        "from sklearn.linear_model import LogisticRegression\n",
        "from sklearn.ensemble import RandomForestClassifier\n",
        "from sklearn.naive_bayes import MultinomialNB\n",
        "from sklearn.svm import LinearSVC\n",
        "import numpy as np\n",
        "\n",
        "from sklearn.model_selection import cross_val_score\n",
        "\n",
        "\n",
        "models = [\n",
        "    RandomForestClassifier(n_estimators=200, max_depth=3, random_state=0),\n",
        "    LinearSVC(),\n",
        "    MultinomialNB(),\n",
        "    LogisticRegression(random_state=0),\n",
        "]\n",
        "CV = 5\n",
        "cv_df = pd.DataFrame(index=range(CV * len(models)))\n",
        "entries = []\n",
        "predic = []\n",
        "for model in models:\n",
        "  model.fit(features, labels)\n",
        "  predic.append(model.predict(features))\n",
        "  model_name = model.__class__.__name__\n",
        "  accuracies = cross_val_score(model, features, labels, scoring='f1_weighted', cv=CV)\n",
        "  for fold_idx, accuracy in enumerate(accuracies):\n",
        "    entries.append((model_name, fold_idx, accuracy))\n",
        "cv_df = pd.DataFrame(entries, columns=['model_name', 'fold_idx', 'f1_weighted'])"
      ]
    },
    {
      "cell_type": "code",
      "source": [
        "from statsmodels.stats.contingency_tables import cochrans_q, mcnemar\n",
        "\n",
        "def checkIfBestModel(contTables):\n",
        "  for i in range(3):\n",
        "    result = mcnemar(contTables[i], exact=True)\n",
        "    # summarize the finding\n",
        "    print('statistic=%.3f, p-value=%.3f' % (result.statistic, result.pvalue))\n",
        "    # interpret the p-value\n",
        "    alpha = 0.05\n",
        "    if result.pvalue > alpha:\n",
        "      print(f\"tied with model: {i}\")\n",
        "      return False\n",
        "  return True\n",
        "\n",
        "dfRes = pd.DataFrame({'labels': labels, 'first': predic[0],'second': predic[1], 'third': predic[2], 'fourth': predic[3]})\n",
        "\n",
        "print(cochrans_q(dfRes))\n",
        "\n",
        "contTables = []\n",
        "\n",
        "for i in range(4):\n",
        "  for j in range(i+1, 4):\n",
        "    currTable = [[0,0],[0,0]]\n",
        "    for index, row in dfRes.iterrows():\n",
        "      if row[i+1] == row[j+1] == row[0]:\n",
        "        currTable[0][0] += 1\n",
        "      elif row[i+1] != row[0] and row[j+1] != row[0]:\n",
        "        currTable[1][1] += 1\n",
        "      elif row[i+1] == row[0] and row[j+1] != row[0]:\n",
        "        currTable[0][1] += 1\n",
        "      else:\n",
        "        currTable[1][0] += 1\n",
        "    contTables.append(currTable)\n",
        "\n",
        "print(contTables)\n",
        "print()\n",
        "print(f\"Check if the first model (random forest) is our best model, without tieing with any other model: {checkIfBestModel(contTables)}\")\n",
        "print(\"there is a tie between the first model (random forest) and the second model (Linear SVC), so pick the one with the higher f1-score (random forest):\")\n",
        "print()\n",
        "print(\"so Random Forest is our best model\")"
      ],
      "metadata": {
        "colab": {
          "base_uri": "https://localhost:8080/"
        },
        "id": "GyFDA71r1qox",
        "outputId": "89f833bd-eca9-4085-bd87-3aa59d50c41a"
      },
      "execution_count": 19,
      "outputs": [
        {
          "output_type": "stream",
          "name": "stderr",
          "text": [
            "/usr/local/lib/python3.7/dist-packages/statsmodels/tools/_testing.py:19: FutureWarning: pandas.util.testing is deprecated. Use the functions in the public API at pandas.testing instead.\n",
            "  import pandas.util.testing as tm\n"
          ]
        },
        {
          "output_type": "stream",
          "name": "stdout",
          "text": [
            "df          4\n",
            "pvalue      8.88067561120273e-06\n",
            "statistic   28.727272727272727\n",
            "[[[415, 8], [52, 107]], [[419, 4], [8, 151]], [[422, 1], [9, 150]], [[419, 48], [8, 107]], [[424, 43], [7, 108]], [[425, 2], [6, 149]]]\n",
            "\n",
            "statistic=8.000, p-value=0.000\n",
            "statistic=4.000, p-value=0.388\n",
            "tied with model: 1\n",
            "Check if the first model (random forest) is our best model, without tieing with any other model: False\n",
            "there is a tie between the first model (random forest) and the second model (Linear SVC), so pick the one with the higher f1-score (random forest):\n",
            "\n",
            "so Random Forest is our best model\n"
          ]
        }
      ]
    },
    {
      "cell_type": "code",
      "execution_count": 20,
      "metadata": {
        "colab": {
          "base_uri": "https://localhost:8080/",
          "height": 280
        },
        "id": "lsZJ3SjcbFTD",
        "outputId": "07acab81-4cc7-4eed-e1c0-7c18d10a2d39"
      },
      "outputs": [
        {
          "output_type": "display_data",
          "data": {
            "text/plain": [
              "<Figure size 432x288 with 1 Axes>"
            ],
            "image/png": "[encoded data removed]"
          },
          "metadata": {
            "needs_background": "light"
          }
        }
      ],
      "source": [
        "import seaborn as sns\n",
        "\n",
        "sns.boxplot(x='model_name', y='f1_weighted', data=cv_df)\n",
        "sns.stripplot(x='model_name', y='f1_weighted', data=cv_df, \n",
        "              size=8, jitter=True, edgecolor=\"gray\", linewidth=2)\n",
        "plt.show()"
      ]
    },
    {
      "cell_type": "code",
      "execution_count": 21,
      "metadata": {
        "colab": {
          "base_uri": "https://localhost:8080/"
        },
        "id": "uvkTOjkJbFTD",
        "outputId": "2d806999-f7f5-4bc4-edba-a01b0f2931ff"
      },
      "outputs": [
        {
          "output_type": "execute_result",
          "data": {
            "text/plain": [
              "model_name\n",
              "LinearSVC                 0.586080\n",
              "LogisticRegression        0.605575\n",
              "MultinomialNB             0.587213\n",
              "RandomForestClassifier    0.611850\n",
              "Name: f1_weighted, dtype: float64"
            ]
          },
          "metadata": {},
          "execution_count": 21
        }
      ],
      "source": [
        "cv_df.groupby('model_name').f1_weighted.mean()"
      ]
    },
    {
      "cell_type": "markdown",
      "source": [
        "###Before tuning the selected model"
      ],
      "metadata": {
        "id": "cTwujnFs3JrX"
      }
    },
    {
      "cell_type": "code",
      "execution_count": 22,
      "metadata": {
        "id": "WJMBBBQvrQlM"
      },
      "outputs": [],
      "source": [
        "from sklearn.model_selection import StratifiedShuffleSplit\n",
        "#Spliting dataset using stratisfiedshufflesplit\n",
        "sss = StratifiedShuffleSplit(test_size=0.20,random_state=42,n_splits=1)\n",
        "X_train, X_test, y_train, y_test = (None, None, None, None)\n",
        "for train_index, test_index in sss.split(features,labels):\n",
        "    X_train, X_test = features[train_index], features[test_index]\n",
        "    y_train, y_test = labels[train_index], labels[test_index]"
      ]
    },
    {
      "cell_type": "code",
      "execution_count": 23,
      "metadata": {
        "collapsed": true,
        "id": "y514JIeWbFTD"
      },
      "outputs": [],
      "source": [
        "from sklearn.model_selection import train_test_split\n",
        "\n",
        "model = RandomForestClassifier(n_estimators=200, max_depth=50, random_state=0)\n",
        "\n",
        "# X_train, X_test, y_train, y_test, indices_train, indices_test = train_test_split(features, labels, df.index, test_size=0.20, random_state=1)"
      ]
    },
    {
      "cell_type": "code",
      "execution_count": 24,
      "metadata": {
        "colab": {
          "base_uri": "https://localhost:8080/"
        },
        "id": "iD7yOSAGzY7D",
        "outputId": "10d42639-2b8c-46c1-f0de-b284b3c3152e"
      },
      "outputs": [
        {
          "output_type": "stream",
          "name": "stdout",
          "text": [
            "before:  Counter({1: 338, 2: 53, 3: 38, 0: 29, 4: 7})\n",
            "after:  Counter({1: 338, 0: 338, 3: 338, 2: 338, 4: 338})\n"
          ]
        }
      ],
      "source": [
        "from imblearn.over_sampling import SMOTE, ADASYN,RandomOverSampler\n",
        "from imblearn.combine import SMOTETomek\n",
        "from collections import Counter\n",
        "\n",
        "counter = Counter(y_train)\n",
        "print(\"before: \",counter)\n",
        "smote = SMOTE(random_state=42)\n",
        "X_train,y_train = smote.fit_resample(X_train,y_train)\n",
        "counter = Counter(y_train)\n",
        "print(\"after: \",counter)"
      ]
    },
    {
      "cell_type": "code",
      "execution_count": 25,
      "metadata": {
        "id": "efYRz19vzVdp"
      },
      "outputs": [],
      "source": [
        "model.fit(X_train, y_train)\n",
        "y_pred = model.predict(X_test)"
      ]
    },
    {
      "cell_type": "code",
      "execution_count": 26,
      "metadata": {
        "colab": {
          "base_uri": "https://localhost:8080/",
          "height": 534
        },
        "id": "8HC5TOC0bFTE",
        "outputId": "f0d4044d-233f-4f2b-d90d-061d04bd77f7"
      },
      "outputs": [
        {
          "output_type": "display_data",
          "data": {
            "text/plain": [
              "<Figure size 576x432 with 2 Axes>"
            ],
            "image/png": "[encoded data removed]"
          },
          "metadata": {
            "needs_background": "light"
          }
        }
      ],
      "source": [
        "from sklearn.metrics import confusion_matrix\n",
        "\n",
        "conf_mat = confusion_matrix(y_test, y_pred)\n",
        "fig, ax = plt.subplots(figsize=(8,6))\n",
        "sns.heatmap(conf_mat, annot=True, fmt='d',\n",
        "            xticklabels=category_id_df.Satd_type.values, yticklabels=category_id_df.Satd_type.values)\n",
        "plt.ylabel('Actual')\n",
        "plt.xlabel('Predicted')\n",
        "plt.show()"
      ]
    },
    {
      "cell_type": "code",
      "execution_count": 27,
      "metadata": {
        "id": "mYOEVAKlbFTE",
        "scrolled": false
      },
      "outputs": [],
      "source": [
        "# from IPython.display import display\n",
        "\n",
        "# for predicted in category_id_df.category_id:\n",
        "#   for actual in category_id_df.category_id:\n",
        "#     if predicted != actual and conf_mat[actual, predicted] >= 6:\n",
        "#       print(\"'{}' predicted as '{}' : {} examples.\".format(id_to_category[actual], id_to_category[predicted], conf_mat[actual, predicted]))\n",
        "#       display(df.loc[indices_test[(y_test == actual) & (y_pred == predicted)]][['Satd_type', 'v1_comment']])\n",
        "#       print('')"
      ]
    },
    {
      "cell_type": "code",
      "execution_count": 28,
      "metadata": {
        "colab": {
          "base_uri": "https://localhost:8080/"
        },
        "id": "vygN5bKobFTE",
        "outputId": "9755aeb0-605e-49f9-e325-440204a03968"
      },
      "outputs": [
        {
          "output_type": "stream",
          "name": "stdout",
          "text": [
            "\"FIXME throw assertion exception if constraintValidatorType == null\"\n",
            "  - Predicted as: 'FILE_PATH_CHANGED'\n",
            "\n",
            "\"TODO order by sum tag\"\n",
            "  - Predicted as: 'SATD_REMOVED'\n",
            "\n",
            "\"TODO remove the part with ToolchainManager lookup once we depend on 3.0.9 (have it as prerequisite). Define as regular component field then.\"\n",
            "  - Predicted as: 'SATD_REMOVED'\n",
            "\n"
          ]
        }
      ],
      "source": [
        "texts = [\"FIXME throw assertion exception if constraintValidatorType == null\",\n",
        "         \"TODO order by sum tag\",\n",
        "         \"TODO remove the part with ToolchainManager lookup once we depend on 3.0.9 (have it as prerequisite). Define as regular component field then.\"]\n",
        "         \n",
        "text_features = tfidf.transform(texts)\n",
        "predictions = model.predict(text_features)\n",
        "for text, predicted in zip(texts, predictions):\n",
        "  print('\"{}\"'.format(text))\n",
        "  print(\"  - Predicted as: '{}'\".format(id_to_category[predicted]))\n",
        "  print(\"\")"
      ]
    },
    {
      "cell_type": "code",
      "execution_count": 29,
      "metadata": {
        "colab": {
          "base_uri": "https://localhost:8080/"
        },
        "id": "NHgr0-CMbFTF",
        "outputId": "6d442201-ee8e-4aa5-9a08-c95cd8784510"
      },
      "outputs": [
        {
          "output_type": "stream",
          "name": "stdout",
          "text": [
            "                         precision    recall  f1-score   support\n",
            "\n",
            "           SATD_CHANGED       0.33      0.14      0.20         7\n",
            "           SATD_REMOVED       0.75      0.81      0.78        85\n",
            "CLASS_OR_METHOD_CHANGED       0.17      0.14      0.15        14\n",
            "        SATD_MOVED_FILE       0.44      0.44      0.44         9\n",
            "      FILE_PATH_CHANGED       0.00      0.00      0.00         2\n",
            "\n",
            "               accuracy                           0.65       117\n",
            "              macro avg       0.34      0.31      0.32       117\n",
            "           weighted avg       0.62      0.65      0.63       117\n",
            "\n"
          ]
        }
      ],
      "source": [
        "from sklearn import metrics\n",
        "print(metrics.classification_report(y_test, y_pred, \n",
        "                                    target_names=df['Satd_type'].unique()))"
      ]
    },
    {
      "cell_type": "markdown",
      "metadata": {
        "id": "jKIogIPvyKcU"
      },
      "source": [
        "#Hyperparameter Tuning"
      ]
    },
    {
      "cell_type": "code",
      "execution_count": 30,
      "metadata": {
        "id": "cdIDcpw1xxT2"
      },
      "outputs": [],
      "source": [
        "\"\"\"\n",
        "  creating a grid for gridsearch model_selection to run on\n",
        "\"\"\"\n",
        "\n",
        "bootstrap = [True,False]\n",
        "criterion = ['gini','entropy']\n",
        "max_depth = [int(x) for x in range(0,111,10)]\n",
        "max_depth[0] = 'None'\n",
        "min_samples_split = [int(x) for x in range(2,52,2)]\n",
        "max_leaf_nodes = [int(x) for x in range(0,115,15)]\n",
        "max_leaf_nodes[0] = 'None'\n",
        "min_samples_leaf = [int(x) for x in range(1,251,10)]\n",
        "n_estimators = [int(x) for x in range(1,501,20)]"
      ]
    },
    {
      "cell_type": "code",
      "execution_count": 31,
      "metadata": {
        "id": "a02rgasPFkRw"
      },
      "outputs": [],
      "source": [
        "from sklearn.model_selection import GridSearchCV\n",
        "\n",
        "param_grid = {\n",
        "    'bootstrap' : bootstrap,\n",
        "    'criterion' : criterion,\n",
        "    'max_depth' : max_depth,\n",
        "    'min_samples_split' : min_samples_split,\n",
        "    'max_leaf_nodes' : max_leaf_nodes,\n",
        "    'min_samples_leaf' : min_samples_leaf,\n",
        "    'n_estimators' : n_estimators\n",
        "}\n",
        "\n",
        "rf = RandomForestClassifier(n_estimators=200,max_depth=3,random_state=0)\n",
        "# base_model = rf\n",
        "# base_model.fit(X_train,y_train)\n",
        "# base_acc = base_model.score(X_test,y_test)\n",
        "# print(base_acc)"
      ]
    },
    {
      "cell_type": "code",
      "execution_count": 50,
      "metadata": {
        "id": "87LLQFmVC5wD"
      },
      "outputs": [],
      "source": [
        "# g_search = GridSearchCV(estimator=rf, param_grid=param_grid, cv = 3, n_jobs=1, verbose=2) #Ran the tuning on cluster as colab doesnt allow more than 3 hours of computational in background\n",
        "# g_search.fit(X_train,y_train)"
      ]
    },
    {
      "cell_type": "code",
      "execution_count": 51,
      "metadata": {
        "id": "3TFT-kyeDqko"
      },
      "outputs": [],
      "source": [
        "# g_search.best_params_"
      ]
    },
    {
      "cell_type": "code",
      "execution_count": 32,
      "metadata": {
        "id": "6aAoZm3599TM"
      },
      "outputs": [],
      "source": [
        "def show_plot(train_score,test_score,parameter,name):\n",
        "  plt.plot(parameter,train_score,'g',label=\"Train_Score\")\n",
        "  plt.plot(parameter,test_score,'r',label=\"Test_Score\")\n",
        "  plt.legend()\n",
        "  plt.title(name)\n",
        "  plt.show()"
      ]
    },
    {
      "cell_type": "code",
      "execution_count": 33,
      "metadata": {
        "id": "EVLhRobY798d"
      },
      "outputs": [],
      "source": [
        "train_score = []\n",
        "test_score = []"
      ]
    },
    {
      "cell_type": "code",
      "execution_count": 34,
      "metadata": {
        "colab": {
          "base_uri": "https://localhost:8080/",
          "height": 281
        },
        "id": "XYOOuQra0-er",
        "outputId": "fe923d67-f32e-4ea4-e794-5dce35f1c10e"
      },
      "outputs": [
        {
          "output_type": "display_data",
          "data": {
            "text/plain": [
              "<Figure size 432x288 with 1 Axes>"
            ],
            "image/png": "[encoded data removed]"
          },
          "metadata": {
            "needs_background": "light"
          }
        }
      ],
      "source": [
        "train_score = []\n",
        "test_score = []\n",
        "rf = RandomForestClassifier(random_state=0)\n",
        "for i in max_depth:\n",
        "  if i != \"None\":\n",
        "    rf.set_params(max_depth = i)\n",
        "  rf.fit(X_train,y_train)\n",
        "  train_score.append(rf.score(X_train,y_train))\n",
        "  test_score.append(rf.score(X_test,y_test))\n",
        "show_plot(train_score,test_score,max_depth,\"Train VS Test Accuracy for tuning max_depth\")"
      ]
    },
    {
      "cell_type": "code",
      "execution_count": 35,
      "metadata": {
        "colab": {
          "base_uri": "https://localhost:8080/",
          "height": 281
        },
        "id": "0Tnlu6-8BTYM",
        "outputId": "2f452f96-b80c-4ee3-abea-23975dd436b5"
      },
      "outputs": [
        {
          "output_type": "display_data",
          "data": {
            "text/plain": [
              "<Figure size 432x288 with 1 Axes>"
            ],
            "image/png": "[encoded data removed]"
          },
          "metadata": {
            "needs_background": "light"
          }
        }
      ],
      "source": [
        "train_score = []\n",
        "test_score = []\n",
        "rf = RandomForestClassifier(random_state=0)\n",
        "for i in bootstrap:\n",
        "  if i != \"None\":\n",
        "    rf.set_params(bootstrap = i)\n",
        "  rf.fit(X_train,y_train)\n",
        "  train_score.append(rf.score(X_train,y_train))\n",
        "  test_score.append(rf.score(X_test,y_test))\n",
        "show_plot(train_score,test_score,bootstrap,\"Train VS Test Accuracy for tuning bootstrap\")"
      ]
    },
    {
      "cell_type": "code",
      "execution_count": 36,
      "metadata": {
        "colab": {
          "base_uri": "https://localhost:8080/",
          "height": 281
        },
        "id": "arIgyx7mCNaC",
        "outputId": "10499f73-f8ae-47c0-ebd2-a331ce4980d8"
      },
      "outputs": [
        {
          "output_type": "display_data",
          "data": {
            "text/plain": [
              "<Figure size 432x288 with 1 Axes>"
            ],
            "image/png": "[encoded data removed]"
          },
          "metadata": {
            "needs_background": "light"
          }
        }
      ],
      "source": [
        "train_score = []\n",
        "test_score = []\n",
        "rf = RandomForestClassifier(random_state=0)\n",
        "for i in criterion:\n",
        "  if i != \"None\":\n",
        "    rf.set_params(criterion = i)\n",
        "  rf.fit(X_train,y_train)\n",
        "  train_score.append(rf.score(X_train,y_train))\n",
        "  test_score.append(rf.score(X_test,y_test))\n",
        "show_plot(train_score,test_score,criterion,\"Train VS Test Accuracy for tuning criterion\")"
      ]
    },
    {
      "cell_type": "code",
      "execution_count": 37,
      "metadata": {
        "colab": {
          "base_uri": "https://localhost:8080/",
          "height": 281
        },
        "id": "D_3rS4qLCfqD",
        "outputId": "336b7e2c-39d3-4593-fd1e-49ae2e7d1149"
      },
      "outputs": [
        {
          "output_type": "display_data",
          "data": {
            "text/plain": [
              "<Figure size 432x288 with 1 Axes>"
            ],
            "image/png": "[encoded data removed]"
          },
          "metadata": {
            "needs_background": "light"
          }
        }
      ],
      "source": [
        "train_score = []\n",
        "test_score = []\n",
        "rf = RandomForestClassifier(random_state=0)\n",
        "for i in min_samples_split:\n",
        "  if i != \"None\":\n",
        "    rf.set_params(min_samples_split = i)\n",
        "  rf.fit(X_train,y_train)\n",
        "  train_score.append(rf.score(X_train,y_train))\n",
        "  test_score.append(rf.score(X_test,y_test))\n",
        "show_plot(train_score,test_score,min_samples_split,\"Train VS Test Accuracy for tuning min_samples_split\")"
      ]
    },
    {
      "cell_type": "code",
      "execution_count": 38,
      "metadata": {
        "id": "Onv3Ab7ODT_S",
        "colab": {
          "base_uri": "https://localhost:8080/",
          "height": 281
        },
        "outputId": "0441412b-8c7f-4c42-dea2-c92b88ec20eb"
      },
      "outputs": [
        {
          "output_type": "display_data",
          "data": {
            "text/plain": [
              "<Figure size 432x288 with 1 Axes>"
            ],
            "image/png": "[encoded data removed]"
          },
          "metadata": {
            "needs_background": "light"
          }
        }
      ],
      "source": [
        "train_score = []\n",
        "test_score = []\n",
        "rf = RandomForestClassifier(random_state=0)\n",
        "for i in max_leaf_nodes:\n",
        "  if i != \"None\":\n",
        "    rf.set_params(max_leaf_nodes = i)\n",
        "  rf.fit(X_train,y_train)\n",
        "  train_score.append(rf.score(X_train,y_train))\n",
        "  test_score.append(rf.score(X_test,y_test))\n",
        "show_plot(train_score,test_score,max_leaf_nodes,\"Train VS Test Accuracy for tuning max_leaf_nodes\")"
      ]
    },
    {
      "cell_type": "code",
      "execution_count": 39,
      "metadata": {
        "id": "Hup8yZtpDUsz",
        "colab": {
          "base_uri": "https://localhost:8080/",
          "height": 281
        },
        "outputId": "897ae7dd-2055-4ca6-ee70-09e3fdc28bfa"
      },
      "outputs": [
        {
          "output_type": "display_data",
          "data": {
            "text/plain": [
              "<Figure size 432x288 with 1 Axes>"
            ],
            "image/png": "[encoded data removed]"
          },
          "metadata": {
            "needs_background": "light"
          }
        }
      ],
      "source": [
        "train_score = []\n",
        "test_score = []\n",
        "rf = RandomForestClassifier(random_state=0)\n",
        "for i in min_samples_leaf:\n",
        "  if i != \"None\":\n",
        "    rf.set_params(min_samples_leaf = i)\n",
        "  rf.fit(X_train,y_train)\n",
        "  train_score.append(rf.score(X_train,y_train))\n",
        "  test_score.append(rf.score(X_test,y_test))\n",
        "show_plot(train_score,test_score,min_samples_leaf,\"Train VS Test Accuracy for tuning min_samples_leaf\")"
      ]
    },
    {
      "cell_type": "code",
      "execution_count": 40,
      "metadata": {
        "colab": {
          "base_uri": "https://localhost:8080/",
          "height": 281
        },
        "id": "QAg952X7DX7C",
        "outputId": "a57459ef-4fd7-452b-da9d-dedc3a671376"
      },
      "outputs": [
        {
          "output_type": "display_data",
          "data": {
            "text/plain": [
              "<Figure size 432x288 with 1 Axes>"
            ],
            "image/png": "[encoded data removed]"
          },
          "metadata": {
            "needs_background": "light"
          }
        }
      ],
      "source": [
        "train_score = []\n",
        "test_score = []\n",
        "rf = RandomForestClassifier(random_state=0)\n",
        "for i in n_estimators:\n",
        "  if i != \"None\":\n",
        "    rf.set_params(n_estimators = i)\n",
        "  rf.fit(X_train,y_train)\n",
        "  train_score.append(rf.score(X_train,y_train))\n",
        "  test_score.append(rf.score(X_test,y_test))\n",
        "show_plot(train_score,test_score,n_estimators,\"Train VS Test Accuracy for tuning n_estimators\")"
      ]
    },
    {
      "cell_type": "code",
      "execution_count": 41,
      "metadata": {
        "id": "ZXMLePhtE7cL"
      },
      "outputs": [],
      "source": [
        "best_model = RandomForestClassifier(bootstrap=False,criterion='entropy',n_estimators=200,max_depth=40,random_state=0) #After tuning the model this are the best parameter"
      ]
    },
    {
      "cell_type": "code",
      "execution_count": 42,
      "metadata": {
        "colab": {
          "base_uri": "https://localhost:8080/"
        },
        "id": "MtiJz8umG4eA",
        "outputId": "5c744a8c-8a9a-4a5e-b8ad-356605ac115a"
      },
      "outputs": [
        {
          "output_type": "execute_result",
          "data": {
            "text/plain": [
              "RandomForestClassifier(bootstrap=False, criterion='entropy', max_depth=40,\n",
              "                       n_estimators=200, random_state=0)"
            ]
          },
          "metadata": {},
          "execution_count": 42
        }
      ],
      "source": [
        "best_model.fit(X_train,y_train)"
      ]
    },
    {
      "cell_type": "code",
      "execution_count": 43,
      "metadata": {
        "id": "iQKXAxoXGoS0"
      },
      "outputs": [],
      "source": [
        "train_yhat = best_model.predict(X_train)"
      ]
    },
    {
      "cell_type": "code",
      "execution_count": 44,
      "metadata": {
        "colab": {
          "base_uri": "https://localhost:8080/"
        },
        "id": "n_Grwc2pJY4x",
        "outputId": "0f662e35-a972-44bb-a05c-e0ed7b4cd06c"
      },
      "outputs": [
        {
          "output_type": "execute_result",
          "data": {
            "text/plain": [
              "0.9668639053254438"
            ]
          },
          "metadata": {},
          "execution_count": 44
        }
      ],
      "source": [
        "from sklearn.metrics import accuracy_score\n",
        "accuracy_score(y_train,train_yhat)"
      ]
    },
    {
      "cell_type": "code",
      "execution_count": 45,
      "metadata": {
        "colab": {
          "base_uri": "https://localhost:8080/"
        },
        "id": "sWS3Lm7fGwfn",
        "outputId": "4b1d6e6e-58f6-42ec-8937-afe4d524db1c"
      },
      "outputs": [
        {
          "output_type": "execute_result",
          "data": {
            "text/plain": [
              "0.6324786324786325"
            ]
          },
          "metadata": {},
          "execution_count": 45
        }
      ],
      "source": [
        "y_pred = best_model.predict(X_test)\n",
        "accuracy_score(y_test,y_pred)"
      ]
    },
    {
      "cell_type": "code",
      "execution_count": 46,
      "metadata": {
        "id": "0ledCimzTljr"
      },
      "outputs": [],
      "source": [
        "CV = 5\n",
        "cv_df = pd.DataFrame(index=range(CV))\n",
        "entries = []\n",
        "model_name = best_model.__class__.__name__\n",
        "accuracies = cross_val_score(best_model, features, labels, scoring='f1_weighted', cv=CV)\n",
        "for fold_idx, f1_weighted in enumerate(accuracies):\n",
        "  entries.append((model_name, fold_idx, f1_weighted))\n",
        "cv_df = pd.DataFrame(entries, columns=['model_name', 'fold_idx', 'f1_weighted'])"
      ]
    },
    {
      "cell_type": "code",
      "execution_count": 47,
      "metadata": {
        "colab": {
          "base_uri": "https://localhost:8080/"
        },
        "id": "l9g0dYT0T00g",
        "outputId": "f1941db2-d131-4d92-cbbd-b6019caa84ed"
      },
      "outputs": [
        {
          "output_type": "execute_result",
          "data": {
            "text/plain": [
              "model_name\n",
              "RandomForestClassifier    0.575336\n",
              "Name: f1_weighted, dtype: float64"
            ]
          },
          "metadata": {},
          "execution_count": 47
        }
      ],
      "source": [
        "cv_df.groupby('model_name').f1_weighted.mean()"
      ]
    },
    {
      "cell_type": "code",
      "execution_count": 48,
      "metadata": {
        "colab": {
          "base_uri": "https://localhost:8080/",
          "height": 534
        },
        "id": "8XfKLzWqLlCG",
        "outputId": "aa0c3eac-78bf-4a34-b8ba-905c48f7cd3e"
      },
      "outputs": [
        {
          "output_type": "display_data",
          "data": {
            "text/plain": [
              "<Figure size 576x432 with 2 Axes>"
            ],
            "image/png": "[encoded data removed]"
          },
          "metadata": {
            "needs_background": "light"
          }
        }
      ],
      "source": [
        "conf_mat = confusion_matrix(y_test, y_pred)\n",
        "fig, ax = plt.subplots(figsize=(8,6))\n",
        "sns.heatmap(conf_mat, annot=True, fmt='d',\n",
        "            xticklabels=category_id_df.Satd_type.values, yticklabels=category_id_df.Satd_type.values)\n",
        "plt.ylabel('Actual')\n",
        "plt.xlabel('Predicted')\n",
        "plt.show()"
      ]
    },
    {
      "cell_type": "code",
      "execution_count": 49,
      "metadata": {
        "colab": {
          "base_uri": "https://localhost:8080/"
        },
        "id": "aSkrFJzOLXdj",
        "outputId": "7d946e5e-1ae9-4d27-e953-7a3eaf970524"
      },
      "outputs": [
        {
          "output_type": "stream",
          "name": "stdout",
          "text": [
            "                         precision    recall  f1-score   support\n",
            "\n",
            "           SATD_CHANGED       0.33      0.14      0.20         7\n",
            "           SATD_REMOVED       0.74      0.79      0.76        85\n",
            "CLASS_OR_METHOD_CHANGED       0.17      0.14      0.15        14\n",
            "        SATD_MOVED_FILE       0.40      0.44      0.42         9\n",
            "      FILE_PATH_CHANGED       0.00      0.00      0.00         2\n",
            "\n",
            "               accuracy                           0.63       117\n",
            "              macro avg       0.33      0.30      0.31       117\n",
            "           weighted avg       0.61      0.63      0.62       117\n",
            "\n"
          ]
        }
      ],
      "source": [
        "from sklearn import metrics\n",
        "print(metrics.classification_report(y_test, y_pred, \n",
        "                                    target_names=df['Satd_type'].unique())) #Final result of model"
      ]
    }
  ],
  "metadata": {
    "accelerator": "GPU",
    "colab": {
      "collapsed_sections": [],
      "name": "SATDandRefactoring.ipynb",
      "provenance": []
    },
    "kernelspec": {
      "display_name": "conda_python3",
      "language": "python",
      "name": "conda_python3"
    },
    "language_info": {
      "codemirror_mode": {
        "name": "ipython",
        "version": 3
      },
      "file_extension": ".py",
      "mimetype": "text/x-python",
      "name": "python",
      "nbconvert_exporter": "python",
      "pygments_lexer": "ipython3",
      "version": "3.6.2"
    }
  },
  "nbformat": 4,
  "nbformat_minor": 0
}